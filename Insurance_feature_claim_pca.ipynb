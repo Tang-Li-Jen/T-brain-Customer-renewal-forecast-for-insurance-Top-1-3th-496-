{
 "cells": [
  {
   "cell_type": "code",
   "execution_count": 1,
   "metadata": {},
   "outputs": [
    {
     "name": "stderr",
     "output_type": "stream",
     "text": [
      "/usr/local/lib/python2.7/site-packages/sklearn/cross_validation.py:44: DeprecationWarning: This module was deprecated in version 0.18 in favor of the model_selection module into which all the refactored classes and functions are moved. Also note that the interface of the new CV iterators are different from that of this module. This module will be removed in 0.20.\n",
      "  \"This module will be removed in 0.20.\", DeprecationWarning)\n"
     ]
    }
   ],
   "source": [
    "import pandas as pd\n",
    "import numpy as np\n",
    "import matplotlib.pyplot as plt\n",
    "import seaborn as sns\n",
    "from sklearn.model_selection import train_test_split, GridSearchCV,StratifiedKFold\n",
    "from sklearn.metrics import mean_absolute_error\n",
    "from sklearn.cross_validation import KFold\n",
    "from sklearn import preprocessing\n",
    "from lightgbm import LGBMRegressor\n",
    "from lightgbm import LGBMClassifier\n",
    "from xgboost import XGBClassifier\n",
    "import xgboost as xgb\n",
    "from sklearn import metrics\n",
    "from mlxtend.feature_selection import ColumnSelector\n",
    "from sklearn.model_selection import KFold\n",
    "from sklearn.model_selection import cross_val_score\n",
    "from sklearn.metrics import accuracy_score, f1_score, precision_score, recall_score, classification_report, confusion_matrix\n",
    "import collections\n",
    "\n",
    "from sklearn.model_selection import KFold\n",
    "from sklearn.model_selection import cross_val_score"
   ]
  },
  {
   "cell_type": "code",
   "execution_count": 2,
   "metadata": {
    "collapsed": true
   },
   "outputs": [],
   "source": [
    "path = '/Users/charlie/Desktop/insurance/'"
   ]
  },
  {
   "cell_type": "code",
   "execution_count": 3,
   "metadata": {
    "collapsed": true
   },
   "outputs": [],
   "source": [
    "tr = pd.read_csv(path+ 'tr3.csv')\n",
    "te = pd.read_csv(path+ 'te3.csv')\n",
    "policy = pd.read_csv(path+ 'policy2.csv')\n",
    "claim = pd.read_csv(path+ 'claim_0702.csv')"
   ]
  },
  {
   "cell_type": "code",
   "execution_count": 4,
   "metadata": {},
   "outputs": [
    {
     "data": {
      "text/plain": [
       "車責    1253120\n",
       "車損     318013\n",
       "竊盜     176809\n",
       "Name: Main_Insurance_Coverage_Group, dtype: int64"
      ]
     },
     "execution_count": 4,
     "metadata": {},
     "output_type": "execute_result"
    }
   ],
   "source": [
    "policy.Main_Insurance_Coverage_Group.value_counts()"
   ]
  },
  {
   "cell_type": "code",
   "execution_count": 5,
   "metadata": {
    "collapsed": true
   },
   "outputs": [],
   "source": [
    "#policy.groupby(['Policy_Number',''])\n",
    "#policy.loc[policy.Coverage_Deductible_if_applied == 0, 'Coverage_Deductible_if_applied']\n",
    "policy[\"no_coverage_deductible\"] = np.where(policy.Coverage_Deductible_if_applied == 0, 1, 0)\n",
    "policy[\"withdrawl_policy\"] = np.where(policy.Coverage_Deductible_if_applied < 0, 1, 0)"
   ]
  },
  {
   "cell_type": "code",
   "execution_count": 6,
   "metadata": {
    "collapsed": true
   },
   "outputs": [],
   "source": [
    "tmp = policy.groupby('Policy_Number', as_index=False)['withdrawl_policy'].sum()\n",
    "tmp.columns = ['Policy_Number', 'withdrawl_policy_count']\n",
    "tr = pd.merge(tr, tmp, on='Policy_Number', how='left')\n",
    "te = pd.merge(te, tmp, on='Policy_Number', how='left')"
   ]
  },
  {
   "cell_type": "code",
   "execution_count": 7,
   "metadata": {
    "collapsed": true
   },
   "outputs": [],
   "source": [
    "tmp = policy.groupby('Policy_Number', as_index=False)['no_coverage_deductible'].sum()\n",
    "tmp.columns = ['Policy_Number', 'no_coverage_deductible_count']\n",
    "tr = pd.merge(tr, tmp, on='Policy_Number', how='left')\n",
    "te = pd.merge(te, tmp, on='Policy_Number', how='left')"
   ]
  },
  {
   "cell_type": "code",
   "execution_count": 8,
   "metadata": {
    "collapsed": true
   },
   "outputs": [],
   "source": [
    "# Claim_Number\n",
    "tmp = claim.groupby(['Policy_Number','Coverage'], as_index=False)['Claim_Number'].count()\n",
    "tmp = tmp.pivot_table(values= 'Claim_Number', index='Policy_Number', columns= 'Coverage')\n",
    "tmp.columns = ['claim_'+col+'_count' for col in tmp]\n",
    "tmp['Policy_Number'] = tmp.index\n",
    "tr = pd.merge(tr, tmp, on='Policy_Number', how='left')\n",
    "te = pd.merge(te, tmp, on='Policy_Number', how='left')"
   ]
  },
  {
   "cell_type": "code",
   "execution_count": 9,
   "metadata": {
    "collapsed": true
   },
   "outputs": [],
   "source": [
    "# Deductible\n",
    "tmp = claim.groupby(['Policy_Number','Coverage'], as_index=False)['Deductible'].sum()\n",
    "tmp = tmp.pivot_table(values= 'Deductible', index='Policy_Number', columns= 'Coverage')\n",
    "tmp.columns = ['claim_'+col+'_sum' for col in tmp]\n",
    "tmp['Policy_Number'] = tmp.index\n",
    "tr = pd.merge(tr, tmp, on='Policy_Number', how='left')\n",
    "te = pd.merge(te, tmp, on='Policy_Number', how='left')"
   ]
  },
  {
   "cell_type": "code",
   "execution_count": 69,
   "metadata": {
    "collapsed": true
   },
   "outputs": [],
   "source": [
    "# Deductible\n",
    "tmp = claim.groupby(['Policy_Number','Coverage'], as_index=False)['Deductible'].sum()\n",
    "tmp.columns = [\"Policy_Number\",\"Insurance_Coverage\",\"Coverage_Claim_Deductible\"]\n",
    "policy = pd.merge(policy, tmp, on=['Policy_Number','Insurance_Coverage'], how='left')"
   ]
  },
  {
   "cell_type": "code",
   "execution_count": 83,
   "metadata": {
    "collapsed": true
   },
   "outputs": [],
   "source": [
    "#tmp = policy.groupby('Policy_Number', as_index=0).agg({\"Coverage_Claim_Deductible\":['sum','mean']})\n",
    "#tmp.columns = [\"Policy_Number\",\"sum_Coverage_Claim_Deductible\",\"mean_Coverage_Claim_Deductible\"]\n",
    "#tmp"
   ]
  },
  {
   "cell_type": "code",
   "execution_count": 16,
   "metadata": {
    "collapsed": true
   },
   "outputs": [],
   "source": [
    "def generate_claim_features(colname):\n",
    "    global tr, te\n",
    "    tmp = claim.groupby(['Policy_Number','Coverage'], as_index=0)[colname].sum()\n",
    "    tmp = tmp.pivot_table(values= colname, index='Policy_Number', columns= 'Coverage')\n",
    "    tmp.columns = ['claim_'+colname + '_'+ col+'_sum' for col in tmp]\n",
    "    tmp['Policy_Number'] = tmp.index\n",
    "    tr = pd.merge(tr, tmp, on='Policy_Number', how='left')\n",
    "    te = pd.merge(te, tmp, on='Policy_Number', how='left')"
   ]
  },
  {
   "cell_type": "code",
   "execution_count": 17,
   "metadata": {
    "collapsed": true
   },
   "outputs": [],
   "source": [
    "generate_claim_features('Paid_Loss_Amount')\n",
    "generate_claim_features('paid_Expenses_Amount')\n",
    "generate_claim_features('Salvage_or_Subrogation?')\n",
    "generate_claim_features('At_Fault?')\n",
    "generate_claim_features('number_of_claimants')"
   ]
  },
  {
   "cell_type": "code",
   "execution_count": 18,
   "metadata": {},
   "outputs": [
    {
     "name": "stdout",
     "output_type": "stream",
     "text": [
      "['Policy_Number' 'Next_Premium' 'mean_Premium' ...,\n",
      " 'claim_number_of_claimants_66L_sum' 'claim_number_of_claimants_70G_sum'\n",
      " 'claim_number_of_claimants_70P_sum']\n"
     ]
    }
   ],
   "source": [
    "from sklearn.decomposition import PCA\n",
    "print tr.columns.values"
   ]
  },
  {
   "cell_type": "code",
   "execution_count": 19,
   "metadata": {},
   "outputs": [
    {
     "data": {
      "text/plain": [
       "0.99192435298262183"
      ]
     },
     "execution_count": 19,
     "metadata": {},
     "output_type": "execute_result"
    }
   ],
   "source": [
    "tmp = tr[['claim_00I_sum', 'claim_01A_sum', 'claim_02K_sum', 'claim_03L_sum',\n",
    "       'claim_04M_sum', 'claim_05E_sum', 'claim_05N_sum', 'claim_06F_sum',\n",
    "       'claim_07P_sum', 'claim_08H_sum', 'claim_09@_sum', 'claim_10A_sum',\n",
    "       'claim_12L_sum', 'claim_14E_sum', 'claim_14N_sum', 'claim_15F_sum',\n",
    "       'claim_15O_sum', 'claim_16G_sum', 'claim_16P_sum', 'claim_18@_sum',\n",
    "       'claim_18I_sum', 'claim_20B_sum', 'claim_20K_sum', 'claim_25G_sum',\n",
    "       'claim_26H_sum', 'claim_29B_sum', 'claim_29K_sum', 'claim_32N_sum',\n",
    "       'claim_33F_sum', 'claim_33O_sum', 'claim_34P_sum', 'claim_35H_sum',\n",
    "       'claim_36I_sum', 'claim_40M_sum', 'claim_41E_sum', 'claim_41N_sum',\n",
    "       'claim_42F_sum', 'claim_45@_sum', 'claim_46A_sum', 'claim_51O_sum',\n",
    "       'claim_55J_sum', 'claim_56B_sum', 'claim_56K_sum', 'claim_57C_sum',\n",
    "       'claim_57L_sum', 'claim_66L_sum', 'claim_70G_sum', 'claim_70P_sum',\n",
    "       'claim_Paid_Loss_Amount_00I_sum', 'claim_Paid_Loss_Amount_01A_sum',\n",
    "       'claim_Paid_Loss_Amount_02K_sum', 'claim_Paid_Loss_Amount_03L_sum',\n",
    "       'claim_Paid_Loss_Amount_04M_sum', 'claim_Paid_Loss_Amount_05E_sum',\n",
    "       'claim_Paid_Loss_Amount_05N_sum', 'claim_Paid_Loss_Amount_06F_sum',\n",
    "       'claim_Paid_Loss_Amount_07P_sum', 'claim_Paid_Loss_Amount_08H_sum',\n",
    "       'claim_Paid_Loss_Amount_09@_sum', 'claim_Paid_Loss_Amount_10A_sum',\n",
    "       'claim_Paid_Loss_Amount_12L_sum', 'claim_Paid_Loss_Amount_14E_sum',\n",
    "       'claim_Paid_Loss_Amount_14N_sum', 'claim_Paid_Loss_Amount_15F_sum',\n",
    "       'claim_Paid_Loss_Amount_15O_sum', 'claim_Paid_Loss_Amount_16G_sum',\n",
    "       'claim_Paid_Loss_Amount_16P_sum', 'claim_Paid_Loss_Amount_18@_sum',\n",
    "       'claim_Paid_Loss_Amount_18I_sum', 'claim_Paid_Loss_Amount_20B_sum',\n",
    "       'claim_Paid_Loss_Amount_20K_sum', 'claim_Paid_Loss_Amount_25G_sum',\n",
    "       'claim_Paid_Loss_Amount_26H_sum', 'claim_Paid_Loss_Amount_29B_sum',\n",
    "       'claim_Paid_Loss_Amount_29K_sum', 'claim_Paid_Loss_Amount_32N_sum',\n",
    "       'claim_Paid_Loss_Amount_33F_sum', 'claim_Paid_Loss_Amount_33O_sum',\n",
    "       'claim_Paid_Loss_Amount_34P_sum', 'claim_Paid_Loss_Amount_35H_sum',\n",
    "       'claim_Paid_Loss_Amount_36I_sum', 'claim_Paid_Loss_Amount_40M_sum',\n",
    "       'claim_Paid_Loss_Amount_41E_sum', 'claim_Paid_Loss_Amount_41N_sum',\n",
    "       'claim_Paid_Loss_Amount_42F_sum', 'claim_Paid_Loss_Amount_45@_sum',\n",
    "       'claim_Paid_Loss_Amount_46A_sum', 'claim_Paid_Loss_Amount_51O_sum',\n",
    "       'claim_Paid_Loss_Amount_55J_sum', 'claim_Paid_Loss_Amount_56B_sum',\n",
    "       'claim_Paid_Loss_Amount_56K_sum', 'claim_Paid_Loss_Amount_57C_sum',\n",
    "       'claim_Paid_Loss_Amount_57L_sum', 'claim_Paid_Loss_Amount_66L_sum',\n",
    "       'claim_Paid_Loss_Amount_70G_sum', 'claim_Paid_Loss_Amount_70P_sum',\n",
    "       'claim_paid_Expenses_Amount_00I_sum',\n",
    "       'claim_paid_Expenses_Amount_01A_sum',\n",
    "       'claim_paid_Expenses_Amount_02K_sum',\n",
    "       'claim_paid_Expenses_Amount_03L_sum',\n",
    "       'claim_paid_Expenses_Amount_04M_sum',\n",
    "       'claim_paid_Expenses_Amount_05E_sum',\n",
    "       'claim_paid_Expenses_Amount_05N_sum',\n",
    "       'claim_paid_Expenses_Amount_06F_sum',\n",
    "       'claim_paid_Expenses_Amount_07P_sum',\n",
    "       'claim_paid_Expenses_Amount_08H_sum',\n",
    "       'claim_paid_Expenses_Amount_09@_sum',\n",
    "       'claim_paid_Expenses_Amount_10A_sum',\n",
    "       'claim_paid_Expenses_Amount_12L_sum',\n",
    "       'claim_paid_Expenses_Amount_14E_sum',\n",
    "       'claim_paid_Expenses_Amount_14N_sum',\n",
    "       'claim_paid_Expenses_Amount_15F_sum',\n",
    "       'claim_paid_Expenses_Amount_15O_sum',\n",
    "       'claim_paid_Expenses_Amount_16G_sum',\n",
    "       'claim_paid_Expenses_Amount_16P_sum',\n",
    "       'claim_paid_Expenses_Amount_18@_sum',\n",
    "       'claim_paid_Expenses_Amount_18I_sum',\n",
    "       'claim_paid_Expenses_Amount_20B_sum',\n",
    "       'claim_paid_Expenses_Amount_20K_sum',\n",
    "       'claim_paid_Expenses_Amount_25G_sum',\n",
    "       'claim_paid_Expenses_Amount_26H_sum',\n",
    "       'claim_paid_Expenses_Amount_29B_sum',\n",
    "       'claim_paid_Expenses_Amount_29K_sum',\n",
    "       'claim_paid_Expenses_Amount_32N_sum',\n",
    "       'claim_paid_Expenses_Amount_33F_sum',\n",
    "       'claim_paid_Expenses_Amount_33O_sum',\n",
    "       'claim_paid_Expenses_Amount_34P_sum',\n",
    "       'claim_paid_Expenses_Amount_35H_sum',\n",
    "       'claim_paid_Expenses_Amount_36I_sum',\n",
    "       'claim_paid_Expenses_Amount_40M_sum',\n",
    "       'claim_paid_Expenses_Amount_41E_sum',\n",
    "       'claim_paid_Expenses_Amount_41N_sum',\n",
    "       'claim_paid_Expenses_Amount_42F_sum',\n",
    "       'claim_paid_Expenses_Amount_45@_sum',\n",
    "       'claim_paid_Expenses_Amount_46A_sum',\n",
    "       'claim_paid_Expenses_Amount_51O_sum',\n",
    "       'claim_paid_Expenses_Amount_55J_sum',\n",
    "       'claim_paid_Expenses_Amount_56B_sum',\n",
    "       'claim_paid_Expenses_Amount_56K_sum',\n",
    "       'claim_paid_Expenses_Amount_57C_sum',\n",
    "       'claim_paid_Expenses_Amount_57L_sum',\n",
    "       'claim_paid_Expenses_Amount_66L_sum',\n",
    "       'claim_paid_Expenses_Amount_70G_sum',\n",
    "       'claim_paid_Expenses_Amount_70P_sum',\n",
    "       'claim_Salvage_or_Subrogation?_00I_sum',\n",
    "       'claim_Salvage_or_Subrogation?_01A_sum',\n",
    "       'claim_Salvage_or_Subrogation?_02K_sum',\n",
    "       'claim_Salvage_or_Subrogation?_03L_sum',\n",
    "       'claim_Salvage_or_Subrogation?_04M_sum',\n",
    "       'claim_Salvage_or_Subrogation?_05E_sum',\n",
    "       'claim_Salvage_or_Subrogation?_05N_sum',\n",
    "       'claim_Salvage_or_Subrogation?_06F_sum',\n",
    "       'claim_Salvage_or_Subrogation?_07P_sum',\n",
    "       'claim_Salvage_or_Subrogation?_08H_sum',\n",
    "       'claim_Salvage_or_Subrogation?_09@_sum',\n",
    "       'claim_Salvage_or_Subrogation?_10A_sum',\n",
    "       'claim_Salvage_or_Subrogation?_12L_sum',\n",
    "       'claim_Salvage_or_Subrogation?_14E_sum',\n",
    "       'claim_Salvage_or_Subrogation?_14N_sum',\n",
    "       'claim_Salvage_or_Subrogation?_15F_sum',\n",
    "       'claim_Salvage_or_Subrogation?_15O_sum',\n",
    "       'claim_Salvage_or_Subrogation?_16G_sum',\n",
    "       'claim_Salvage_or_Subrogation?_16P_sum',\n",
    "       'claim_Salvage_or_Subrogation?_18@_sum',\n",
    "       'claim_Salvage_or_Subrogation?_18I_sum',\n",
    "       'claim_Salvage_or_Subrogation?_20B_sum',\n",
    "       'claim_Salvage_or_Subrogation?_20K_sum',\n",
    "       'claim_Salvage_or_Subrogation?_25G_sum',\n",
    "       'claim_Salvage_or_Subrogation?_26H_sum',\n",
    "       'claim_Salvage_or_Subrogation?_29B_sum',\n",
    "       'claim_Salvage_or_Subrogation?_29K_sum',\n",
    "       'claim_Salvage_or_Subrogation?_32N_sum',\n",
    "       'claim_Salvage_or_Subrogation?_33F_sum',\n",
    "       'claim_Salvage_or_Subrogation?_33O_sum',\n",
    "       'claim_Salvage_or_Subrogation?_34P_sum',\n",
    "       'claim_Salvage_or_Subrogation?_35H_sum',\n",
    "       'claim_Salvage_or_Subrogation?_36I_sum',\n",
    "       'claim_Salvage_or_Subrogation?_40M_sum',\n",
    "       'claim_Salvage_or_Subrogation?_41E_sum',\n",
    "       'claim_Salvage_or_Subrogation?_41N_sum',\n",
    "       'claim_Salvage_or_Subrogation?_42F_sum',\n",
    "       'claim_Salvage_or_Subrogation?_45@_sum',\n",
    "       'claim_Salvage_or_Subrogation?_46A_sum',\n",
    "       'claim_Salvage_or_Subrogation?_51O_sum',\n",
    "       'claim_Salvage_or_Subrogation?_55J_sum',\n",
    "       'claim_Salvage_or_Subrogation?_56B_sum',\n",
    "       'claim_Salvage_or_Subrogation?_56K_sum',\n",
    "       'claim_Salvage_or_Subrogation?_57C_sum',\n",
    "       'claim_Salvage_or_Subrogation?_57L_sum',\n",
    "       'claim_Salvage_or_Subrogation?_66L_sum',\n",
    "       'claim_Salvage_or_Subrogation?_70G_sum',\n",
    "       'claim_Salvage_or_Subrogation?_70P_sum', 'claim_At_Fault?_00I_sum',\n",
    "       'claim_At_Fault?_01A_sum', 'claim_At_Fault?_02K_sum',\n",
    "       'claim_At_Fault?_03L_sum', 'claim_At_Fault?_04M_sum',\n",
    "       'claim_At_Fault?_05E_sum', 'claim_At_Fault?_05N_sum',\n",
    "       'claim_At_Fault?_06F_sum', 'claim_At_Fault?_07P_sum',\n",
    "       'claim_At_Fault?_08H_sum', 'claim_At_Fault?_09@_sum',\n",
    "       'claim_At_Fault?_10A_sum', 'claim_At_Fault?_12L_sum',\n",
    "       'claim_At_Fault?_14E_sum', 'claim_At_Fault?_14N_sum',\n",
    "       'claim_At_Fault?_15F_sum', 'claim_At_Fault?_15O_sum',\n",
    "       'claim_At_Fault?_16G_sum', 'claim_At_Fault?_16P_sum',\n",
    "       'claim_At_Fault?_18@_sum', 'claim_At_Fault?_18I_sum',\n",
    "       'claim_At_Fault?_20B_sum', 'claim_At_Fault?_20K_sum',\n",
    "       'claim_At_Fault?_25G_sum', 'claim_At_Fault?_26H_sum',\n",
    "       'claim_At_Fault?_29B_sum', 'claim_At_Fault?_29K_sum',\n",
    "       'claim_At_Fault?_32N_sum', 'claim_At_Fault?_33F_sum',\n",
    "       'claim_At_Fault?_33O_sum', 'claim_At_Fault?_34P_sum',\n",
    "       'claim_At_Fault?_35H_sum', 'claim_At_Fault?_36I_sum',\n",
    "       'claim_At_Fault?_40M_sum', 'claim_At_Fault?_41E_sum',\n",
    "       'claim_At_Fault?_41N_sum', 'claim_At_Fault?_42F_sum',\n",
    "       'claim_At_Fault?_45@_sum', 'claim_At_Fault?_46A_sum',\n",
    "       'claim_At_Fault?_51O_sum', 'claim_At_Fault?_55J_sum',\n",
    "       'claim_At_Fault?_56B_sum', 'claim_At_Fault?_56K_sum',\n",
    "       'claim_At_Fault?_57C_sum', 'claim_At_Fault?_57L_sum',\n",
    "       'claim_At_Fault?_66L_sum', 'claim_At_Fault?_70G_sum',\n",
    "       'claim_At_Fault?_70P_sum', 'claim_number_of_claimants_00I_sum',\n",
    "       'claim_number_of_claimants_01A_sum',\n",
    "       'claim_number_of_claimants_02K_sum',\n",
    "       'claim_number_of_claimants_03L_sum',\n",
    "       'claim_number_of_claimants_04M_sum',\n",
    "       'claim_number_of_claimants_05E_sum',\n",
    "       'claim_number_of_claimants_05N_sum',\n",
    "       'claim_number_of_claimants_06F_sum',\n",
    "       'claim_number_of_claimants_07P_sum',\n",
    "       'claim_number_of_claimants_08H_sum',\n",
    "       'claim_number_of_claimants_09@_sum',\n",
    "       'claim_number_of_claimants_10A_sum',\n",
    "       'claim_number_of_claimants_12L_sum',\n",
    "       'claim_number_of_claimants_14E_sum',\n",
    "       'claim_number_of_claimants_14N_sum',\n",
    "       'claim_number_of_claimants_15F_sum',\n",
    "       'claim_number_of_claimants_15O_sum',\n",
    "       'claim_number_of_claimants_16G_sum',\n",
    "       'claim_number_of_claimants_16P_sum',\n",
    "       'claim_number_of_claimants_18@_sum',\n",
    "       'claim_number_of_claimants_18I_sum',\n",
    "       'claim_number_of_claimants_20B_sum',\n",
    "       'claim_number_of_claimants_20K_sum',\n",
    "       'claim_number_of_claimants_25G_sum',\n",
    "       'claim_number_of_claimants_26H_sum',\n",
    "       'claim_number_of_claimants_29B_sum',\n",
    "       'claim_number_of_claimants_29K_sum',\n",
    "       'claim_number_of_claimants_32N_sum',\n",
    "       'claim_number_of_claimants_33F_sum',\n",
    "       'claim_number_of_claimants_33O_sum',\n",
    "       'claim_number_of_claimants_34P_sum',\n",
    "       'claim_number_of_claimants_35H_sum',\n",
    "       'claim_number_of_claimants_36I_sum',\n",
    "       'claim_number_of_claimants_40M_sum',\n",
    "       'claim_number_of_claimants_41E_sum',\n",
    "       'claim_number_of_claimants_41N_sum',\n",
    "       'claim_number_of_claimants_42F_sum',\n",
    "       'claim_number_of_claimants_45@_sum',\n",
    "       'claim_number_of_claimants_46A_sum',\n",
    "       'claim_number_of_claimants_51O_sum',\n",
    "       'claim_number_of_claimants_55J_sum',\n",
    "       'claim_number_of_claimants_56B_sum',\n",
    "       'claim_number_of_claimants_56K_sum',\n",
    "       'claim_number_of_claimants_57C_sum',\n",
    "       'claim_number_of_claimants_57L_sum',\n",
    "       'claim_number_of_claimants_66L_sum',\n",
    "       'claim_number_of_claimants_70G_sum',\n",
    "       'claim_number_of_claimants_70P_sum']]\n",
    "tmp2 = te[['claim_00I_sum', 'claim_01A_sum', 'claim_02K_sum', 'claim_03L_sum',\n",
    "       'claim_04M_sum', 'claim_05E_sum', 'claim_05N_sum', 'claim_06F_sum',\n",
    "       'claim_07P_sum', 'claim_08H_sum', 'claim_09@_sum', 'claim_10A_sum',\n",
    "       'claim_12L_sum', 'claim_14E_sum', 'claim_14N_sum', 'claim_15F_sum',\n",
    "       'claim_15O_sum', 'claim_16G_sum', 'claim_16P_sum', 'claim_18@_sum',\n",
    "       'claim_18I_sum', 'claim_20B_sum', 'claim_20K_sum', 'claim_25G_sum',\n",
    "       'claim_26H_sum', 'claim_29B_sum', 'claim_29K_sum', 'claim_32N_sum',\n",
    "       'claim_33F_sum', 'claim_33O_sum', 'claim_34P_sum', 'claim_35H_sum',\n",
    "       'claim_36I_sum', 'claim_40M_sum', 'claim_41E_sum', 'claim_41N_sum',\n",
    "       'claim_42F_sum', 'claim_45@_sum', 'claim_46A_sum', 'claim_51O_sum',\n",
    "       'claim_55J_sum', 'claim_56B_sum', 'claim_56K_sum', 'claim_57C_sum',\n",
    "       'claim_57L_sum', 'claim_66L_sum', 'claim_70G_sum', 'claim_70P_sum',\n",
    "       'claim_Paid_Loss_Amount_00I_sum', 'claim_Paid_Loss_Amount_01A_sum',\n",
    "       'claim_Paid_Loss_Amount_02K_sum', 'claim_Paid_Loss_Amount_03L_sum',\n",
    "       'claim_Paid_Loss_Amount_04M_sum', 'claim_Paid_Loss_Amount_05E_sum',\n",
    "       'claim_Paid_Loss_Amount_05N_sum', 'claim_Paid_Loss_Amount_06F_sum',\n",
    "       'claim_Paid_Loss_Amount_07P_sum', 'claim_Paid_Loss_Amount_08H_sum',\n",
    "       'claim_Paid_Loss_Amount_09@_sum', 'claim_Paid_Loss_Amount_10A_sum',\n",
    "       'claim_Paid_Loss_Amount_12L_sum', 'claim_Paid_Loss_Amount_14E_sum',\n",
    "       'claim_Paid_Loss_Amount_14N_sum', 'claim_Paid_Loss_Amount_15F_sum',\n",
    "       'claim_Paid_Loss_Amount_15O_sum', 'claim_Paid_Loss_Amount_16G_sum',\n",
    "       'claim_Paid_Loss_Amount_16P_sum', 'claim_Paid_Loss_Amount_18@_sum',\n",
    "       'claim_Paid_Loss_Amount_18I_sum', 'claim_Paid_Loss_Amount_20B_sum',\n",
    "       'claim_Paid_Loss_Amount_20K_sum', 'claim_Paid_Loss_Amount_25G_sum',\n",
    "       'claim_Paid_Loss_Amount_26H_sum', 'claim_Paid_Loss_Amount_29B_sum',\n",
    "       'claim_Paid_Loss_Amount_29K_sum', 'claim_Paid_Loss_Amount_32N_sum',\n",
    "       'claim_Paid_Loss_Amount_33F_sum', 'claim_Paid_Loss_Amount_33O_sum',\n",
    "       'claim_Paid_Loss_Amount_34P_sum', 'claim_Paid_Loss_Amount_35H_sum',\n",
    "       'claim_Paid_Loss_Amount_36I_sum', 'claim_Paid_Loss_Amount_40M_sum',\n",
    "       'claim_Paid_Loss_Amount_41E_sum', 'claim_Paid_Loss_Amount_41N_sum',\n",
    "       'claim_Paid_Loss_Amount_42F_sum', 'claim_Paid_Loss_Amount_45@_sum',\n",
    "       'claim_Paid_Loss_Amount_46A_sum', 'claim_Paid_Loss_Amount_51O_sum',\n",
    "       'claim_Paid_Loss_Amount_55J_sum', 'claim_Paid_Loss_Amount_56B_sum',\n",
    "       'claim_Paid_Loss_Amount_56K_sum', 'claim_Paid_Loss_Amount_57C_sum',\n",
    "       'claim_Paid_Loss_Amount_57L_sum', 'claim_Paid_Loss_Amount_66L_sum',\n",
    "       'claim_Paid_Loss_Amount_70G_sum', 'claim_Paid_Loss_Amount_70P_sum',\n",
    "       'claim_paid_Expenses_Amount_00I_sum',\n",
    "       'claim_paid_Expenses_Amount_01A_sum',\n",
    "       'claim_paid_Expenses_Amount_02K_sum',\n",
    "       'claim_paid_Expenses_Amount_03L_sum',\n",
    "       'claim_paid_Expenses_Amount_04M_sum',\n",
    "       'claim_paid_Expenses_Amount_05E_sum',\n",
    "       'claim_paid_Expenses_Amount_05N_sum',\n",
    "       'claim_paid_Expenses_Amount_06F_sum',\n",
    "       'claim_paid_Expenses_Amount_07P_sum',\n",
    "       'claim_paid_Expenses_Amount_08H_sum',\n",
    "       'claim_paid_Expenses_Amount_09@_sum',\n",
    "       'claim_paid_Expenses_Amount_10A_sum',\n",
    "       'claim_paid_Expenses_Amount_12L_sum',\n",
    "       'claim_paid_Expenses_Amount_14E_sum',\n",
    "       'claim_paid_Expenses_Amount_14N_sum',\n",
    "       'claim_paid_Expenses_Amount_15F_sum',\n",
    "       'claim_paid_Expenses_Amount_15O_sum',\n",
    "       'claim_paid_Expenses_Amount_16G_sum',\n",
    "       'claim_paid_Expenses_Amount_16P_sum',\n",
    "       'claim_paid_Expenses_Amount_18@_sum',\n",
    "       'claim_paid_Expenses_Amount_18I_sum',\n",
    "       'claim_paid_Expenses_Amount_20B_sum',\n",
    "       'claim_paid_Expenses_Amount_20K_sum',\n",
    "       'claim_paid_Expenses_Amount_25G_sum',\n",
    "       'claim_paid_Expenses_Amount_26H_sum',\n",
    "       'claim_paid_Expenses_Amount_29B_sum',\n",
    "       'claim_paid_Expenses_Amount_29K_sum',\n",
    "       'claim_paid_Expenses_Amount_32N_sum',\n",
    "       'claim_paid_Expenses_Amount_33F_sum',\n",
    "       'claim_paid_Expenses_Amount_33O_sum',\n",
    "       'claim_paid_Expenses_Amount_34P_sum',\n",
    "       'claim_paid_Expenses_Amount_35H_sum',\n",
    "       'claim_paid_Expenses_Amount_36I_sum',\n",
    "       'claim_paid_Expenses_Amount_40M_sum',\n",
    "       'claim_paid_Expenses_Amount_41E_sum',\n",
    "       'claim_paid_Expenses_Amount_41N_sum',\n",
    "       'claim_paid_Expenses_Amount_42F_sum',\n",
    "       'claim_paid_Expenses_Amount_45@_sum',\n",
    "       'claim_paid_Expenses_Amount_46A_sum',\n",
    "       'claim_paid_Expenses_Amount_51O_sum',\n",
    "       'claim_paid_Expenses_Amount_55J_sum',\n",
    "       'claim_paid_Expenses_Amount_56B_sum',\n",
    "       'claim_paid_Expenses_Amount_56K_sum',\n",
    "       'claim_paid_Expenses_Amount_57C_sum',\n",
    "       'claim_paid_Expenses_Amount_57L_sum',\n",
    "       'claim_paid_Expenses_Amount_66L_sum',\n",
    "       'claim_paid_Expenses_Amount_70G_sum',\n",
    "       'claim_paid_Expenses_Amount_70P_sum',\n",
    "       'claim_Salvage_or_Subrogation?_00I_sum',\n",
    "       'claim_Salvage_or_Subrogation?_01A_sum',\n",
    "       'claim_Salvage_or_Subrogation?_02K_sum',\n",
    "       'claim_Salvage_or_Subrogation?_03L_sum',\n",
    "       'claim_Salvage_or_Subrogation?_04M_sum',\n",
    "       'claim_Salvage_or_Subrogation?_05E_sum',\n",
    "       'claim_Salvage_or_Subrogation?_05N_sum',\n",
    "       'claim_Salvage_or_Subrogation?_06F_sum',\n",
    "       'claim_Salvage_or_Subrogation?_07P_sum',\n",
    "       'claim_Salvage_or_Subrogation?_08H_sum',\n",
    "       'claim_Salvage_or_Subrogation?_09@_sum',\n",
    "       'claim_Salvage_or_Subrogation?_10A_sum',\n",
    "       'claim_Salvage_or_Subrogation?_12L_sum',\n",
    "       'claim_Salvage_or_Subrogation?_14E_sum',\n",
    "       'claim_Salvage_or_Subrogation?_14N_sum',\n",
    "       'claim_Salvage_or_Subrogation?_15F_sum',\n",
    "       'claim_Salvage_or_Subrogation?_15O_sum',\n",
    "       'claim_Salvage_or_Subrogation?_16G_sum',\n",
    "       'claim_Salvage_or_Subrogation?_16P_sum',\n",
    "       'claim_Salvage_or_Subrogation?_18@_sum',\n",
    "       'claim_Salvage_or_Subrogation?_18I_sum',\n",
    "       'claim_Salvage_or_Subrogation?_20B_sum',\n",
    "       'claim_Salvage_or_Subrogation?_20K_sum',\n",
    "       'claim_Salvage_or_Subrogation?_25G_sum',\n",
    "       'claim_Salvage_or_Subrogation?_26H_sum',\n",
    "       'claim_Salvage_or_Subrogation?_29B_sum',\n",
    "       'claim_Salvage_or_Subrogation?_29K_sum',\n",
    "       'claim_Salvage_or_Subrogation?_32N_sum',\n",
    "       'claim_Salvage_or_Subrogation?_33F_sum',\n",
    "       'claim_Salvage_or_Subrogation?_33O_sum',\n",
    "       'claim_Salvage_or_Subrogation?_34P_sum',\n",
    "       'claim_Salvage_or_Subrogation?_35H_sum',\n",
    "       'claim_Salvage_or_Subrogation?_36I_sum',\n",
    "       'claim_Salvage_or_Subrogation?_40M_sum',\n",
    "       'claim_Salvage_or_Subrogation?_41E_sum',\n",
    "       'claim_Salvage_or_Subrogation?_41N_sum',\n",
    "       'claim_Salvage_or_Subrogation?_42F_sum',\n",
    "       'claim_Salvage_or_Subrogation?_45@_sum',\n",
    "       'claim_Salvage_or_Subrogation?_46A_sum',\n",
    "       'claim_Salvage_or_Subrogation?_51O_sum',\n",
    "       'claim_Salvage_or_Subrogation?_55J_sum',\n",
    "       'claim_Salvage_or_Subrogation?_56B_sum',\n",
    "       'claim_Salvage_or_Subrogation?_56K_sum',\n",
    "       'claim_Salvage_or_Subrogation?_57C_sum',\n",
    "       'claim_Salvage_or_Subrogation?_57L_sum',\n",
    "       'claim_Salvage_or_Subrogation?_66L_sum',\n",
    "       'claim_Salvage_or_Subrogation?_70G_sum',\n",
    "       'claim_Salvage_or_Subrogation?_70P_sum', 'claim_At_Fault?_00I_sum',\n",
    "       'claim_At_Fault?_01A_sum', 'claim_At_Fault?_02K_sum',\n",
    "       'claim_At_Fault?_03L_sum', 'claim_At_Fault?_04M_sum',\n",
    "       'claim_At_Fault?_05E_sum', 'claim_At_Fault?_05N_sum',\n",
    "       'claim_At_Fault?_06F_sum', 'claim_At_Fault?_07P_sum',\n",
    "       'claim_At_Fault?_08H_sum', 'claim_At_Fault?_09@_sum',\n",
    "       'claim_At_Fault?_10A_sum', 'claim_At_Fault?_12L_sum',\n",
    "       'claim_At_Fault?_14E_sum', 'claim_At_Fault?_14N_sum',\n",
    "       'claim_At_Fault?_15F_sum', 'claim_At_Fault?_15O_sum',\n",
    "       'claim_At_Fault?_16G_sum', 'claim_At_Fault?_16P_sum',\n",
    "       'claim_At_Fault?_18@_sum', 'claim_At_Fault?_18I_sum',\n",
    "       'claim_At_Fault?_20B_sum', 'claim_At_Fault?_20K_sum',\n",
    "       'claim_At_Fault?_25G_sum', 'claim_At_Fault?_26H_sum',\n",
    "       'claim_At_Fault?_29B_sum', 'claim_At_Fault?_29K_sum',\n",
    "       'claim_At_Fault?_32N_sum', 'claim_At_Fault?_33F_sum',\n",
    "       'claim_At_Fault?_33O_sum', 'claim_At_Fault?_34P_sum',\n",
    "       'claim_At_Fault?_35H_sum', 'claim_At_Fault?_36I_sum',\n",
    "       'claim_At_Fault?_40M_sum', 'claim_At_Fault?_41E_sum',\n",
    "       'claim_At_Fault?_41N_sum', 'claim_At_Fault?_42F_sum',\n",
    "       'claim_At_Fault?_45@_sum', 'claim_At_Fault?_46A_sum',\n",
    "       'claim_At_Fault?_51O_sum', 'claim_At_Fault?_55J_sum',\n",
    "       'claim_At_Fault?_56B_sum', 'claim_At_Fault?_56K_sum',\n",
    "       'claim_At_Fault?_57C_sum', 'claim_At_Fault?_57L_sum',\n",
    "       'claim_At_Fault?_66L_sum', 'claim_At_Fault?_70G_sum',\n",
    "       'claim_At_Fault?_70P_sum', 'claim_number_of_claimants_00I_sum',\n",
    "       'claim_number_of_claimants_01A_sum',\n",
    "       'claim_number_of_claimants_02K_sum',\n",
    "       'claim_number_of_claimants_03L_sum',\n",
    "       'claim_number_of_claimants_04M_sum',\n",
    "       'claim_number_of_claimants_05E_sum',\n",
    "       'claim_number_of_claimants_05N_sum',\n",
    "       'claim_number_of_claimants_06F_sum',\n",
    "       'claim_number_of_claimants_07P_sum',\n",
    "       'claim_number_of_claimants_08H_sum',\n",
    "       'claim_number_of_claimants_09@_sum',\n",
    "       'claim_number_of_claimants_10A_sum',\n",
    "       'claim_number_of_claimants_12L_sum',\n",
    "       'claim_number_of_claimants_14E_sum',\n",
    "       'claim_number_of_claimants_14N_sum',\n",
    "       'claim_number_of_claimants_15F_sum',\n",
    "       'claim_number_of_claimants_15O_sum',\n",
    "       'claim_number_of_claimants_16G_sum',\n",
    "       'claim_number_of_claimants_16P_sum',\n",
    "       'claim_number_of_claimants_18@_sum',\n",
    "       'claim_number_of_claimants_18I_sum',\n",
    "       'claim_number_of_claimants_20B_sum',\n",
    "       'claim_number_of_claimants_20K_sum',\n",
    "       'claim_number_of_claimants_25G_sum',\n",
    "       'claim_number_of_claimants_26H_sum',\n",
    "       'claim_number_of_claimants_29B_sum',\n",
    "       'claim_number_of_claimants_29K_sum',\n",
    "       'claim_number_of_claimants_32N_sum',\n",
    "       'claim_number_of_claimants_33F_sum',\n",
    "       'claim_number_of_claimants_33O_sum',\n",
    "       'claim_number_of_claimants_34P_sum',\n",
    "       'claim_number_of_claimants_35H_sum',\n",
    "       'claim_number_of_claimants_36I_sum',\n",
    "       'claim_number_of_claimants_40M_sum',\n",
    "       'claim_number_of_claimants_41E_sum',\n",
    "       'claim_number_of_claimants_41N_sum',\n",
    "       'claim_number_of_claimants_42F_sum',\n",
    "       'claim_number_of_claimants_45@_sum',\n",
    "       'claim_number_of_claimants_46A_sum',\n",
    "       'claim_number_of_claimants_51O_sum',\n",
    "       'claim_number_of_claimants_55J_sum',\n",
    "       'claim_number_of_claimants_56B_sum',\n",
    "       'claim_number_of_claimants_56K_sum',\n",
    "       'claim_number_of_claimants_57C_sum',\n",
    "       'claim_number_of_claimants_57L_sum',\n",
    "       'claim_number_of_claimants_66L_sum',\n",
    "       'claim_number_of_claimants_70G_sum',\n",
    "       'claim_number_of_claimants_70P_sum']]\n",
    "tmp = tmp.fillna(0)\n",
    "tmp2 = tmp2.fillna(0)\n",
    "pca=PCA(n_components=15)\n",
    "tr_Coverage_pca = pca.fit_transform(tmp)\n",
    "te_Coverage_pca = pca.transform(tmp2)\n",
    "sum(pca.explained_variance_ratio_)"
   ]
  },
  {
   "cell_type": "code",
   "execution_count": 20,
   "metadata": {
    "collapsed": true
   },
   "outputs": [],
   "source": [
    "tmp = pd.DataFrame(tr_Coverage_pca)\n",
    "tmp.columns = ['claim_coverage_pca_' + str(i) for i in range(15)]\n",
    "tr = pd.concat([tr, tmp], axis=1)\n",
    "\n",
    "tmp2 = pd.DataFrame(te_Coverage_pca)\n",
    "tmp2.columns = ['claim_coverage_pca_' + str(i) for i in range(15)]\n",
    "te = pd.concat([te, tmp2], axis=1)"
   ]
  },
  {
   "cell_type": "code",
   "execution_count": 21,
   "metadata": {},
   "outputs": [
    {
     "name": "stdout",
     "output_type": "stream",
     "text": [
      "210763\n",
      "140510\n"
     ]
    }
   ],
   "source": [
    "print len(tr)\n",
    "print len(te)"
   ]
  },
  {
   "cell_type": "code",
   "execution_count": 46,
   "metadata": {
    "collapsed": true
   },
   "outputs": [],
   "source": [
    "tmp = claim.groupby(['Policy_Number','Coverage'], as_index=False)['Claim_Number'].count()\n",
    "tmp.columns = [\"Policy_Number\",\"Insurance_Coverage\",\"Coverage_Claim_Number\"]\n",
    "policy = pd.merge(policy, tmp, on=['Policy_Number','Insurance_Coverage'], how='left')"
   ]
  },
  {
   "cell_type": "code",
   "execution_count": 47,
   "metadata": {},
   "outputs": [
    {
     "data": {
      "text/plain": [
       "count    53769.000000\n",
       "mean         1.294668\n",
       "std          0.665863\n",
       "min          1.000000\n",
       "25%          1.000000\n",
       "50%          1.000000\n",
       "75%          1.000000\n",
       "max         15.000000\n",
       "Name: Coverage_Claim_Number, dtype: float64"
      ]
     },
     "execution_count": 47,
     "metadata": {},
     "output_type": "execute_result"
    }
   ],
   "source": [
    "policy.Coverage_Claim_Number.describe()"
   ]
  },
  {
   "cell_type": "code",
   "execution_count": 11,
   "metadata": {
    "collapsed": true
   },
   "outputs": [],
   "source": [
    "claim['no_fault'] = np.where(claim[\"At_Fault?\"] == 0, 1, 0)"
   ]
  },
  {
   "cell_type": "code",
   "execution_count": 12,
   "metadata": {
    "collapsed": true
   },
   "outputs": [],
   "source": [
    "tmp = claim.groupby('Policy_Number', as_index=0)[\"no_fault\"].sum()\n",
    "tmp.columns = [\"Policy_Number\",\"no_fault_count\"]\n",
    "tr = pd.merge(tr, tmp, on='Policy_Number', how='left')\n",
    "te = pd.merge(te, tmp, on='Policy_Number', how='left')"
   ]
  },
  {
   "cell_type": "code",
   "execution_count": 13,
   "metadata": {
    "collapsed": true
   },
   "outputs": [],
   "source": [
    "tr['no_fault_percentage'] = tr.no_fault_count / tr.Claim_Number\n",
    "te['no_fault_percentage'] = te.no_fault_count / te.Claim_Number"
   ]
  },
  {
   "cell_type": "code",
   "execution_count": 38,
   "metadata": {},
   "outputs": [
    {
     "data": {
      "text/plain": [
       "0    96\n",
       "Name: Coverage_Deductible_if_applied, dtype: int64"
      ]
     },
     "execution_count": 38,
     "metadata": {},
     "output_type": "execute_result"
    }
   ],
   "source": [
    "policy.loc[policy.Insurance_Coverage == '56B','Coverage_Deductible_if_applied'].value_counts()"
   ]
  },
  {
   "cell_type": "code",
   "execution_count": 22,
   "metadata": {
    "collapsed": true
   },
   "outputs": [],
   "source": [
    "tr.to_csv(path+'tr3.csv', index=False, encoding='utf-8')\n",
    "te.to_csv(path+'te3.csv', index=False, encoding='utf-8')"
   ]
  },
  {
   "cell_type": "code",
   "execution_count": 14,
   "metadata": {},
   "outputs": [
    {
     "name": "stdout",
     "output_type": "stream",
     "text": [
      "210763\n",
      "140510\n"
     ]
    }
   ],
   "source": [
    "print len(tr)\n",
    "print len(te)"
   ]
  }
 ],
 "metadata": {
  "kernelspec": {
   "display_name": "Python 2",
   "language": "python",
   "name": "python2"
  },
  "language_info": {
   "codemirror_mode": {
    "name": "ipython",
    "version": 2
   },
   "file_extension": ".py",
   "mimetype": "text/x-python",
   "name": "python",
   "nbconvert_exporter": "python",
   "pygments_lexer": "ipython2",
   "version": "2.7.13"
  }
 },
 "nbformat": 4,
 "nbformat_minor": 2
}
