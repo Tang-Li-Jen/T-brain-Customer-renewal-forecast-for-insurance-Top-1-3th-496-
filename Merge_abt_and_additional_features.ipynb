{
 "cells": [
  {
   "cell_type": "code",
   "execution_count": 20,
   "metadata": {
    "collapsed": true
   },
   "outputs": [],
   "source": [
    "import pandas as pd\n",
    "import numpy as np\n",
    "import matplotlib.pyplot as plt\n",
    "import seaborn as sns\n",
    "from sklearn.model_selection import train_test_split, GridSearchCV,StratifiedKFold\n",
    "from sklearn.metrics import mean_absolute_error\n",
    "from sklearn.cross_validation import KFold\n",
    "from sklearn import preprocessing\n",
    "from lightgbm import LGBMRegressor\n",
    "from lightgbm import LGBMClassifier\n",
    "from xgboost import XGBClassifier\n",
    "import xgboost as xgb\n",
    "from sklearn import metrics\n",
    "from mlxtend.feature_selection import ColumnSelector\n",
    "from sklearn.model_selection import KFold\n",
    "from sklearn.model_selection import cross_val_score\n",
    "from sklearn.metrics import accuracy_score, f1_score, precision_score, recall_score, classification_report, confusion_matrix\n",
    "import collections\n",
    "from sklearn.model_selection import KFold\n",
    "from sklearn.model_selection import cross_val_score\n",
    "from sklearn.model_selection import StratifiedKFold"
   ]
  },
  {
   "cell_type": "code",
   "execution_count": 21,
   "metadata": {
    "collapsed": true
   },
   "outputs": [],
   "source": [
    "path = '/Users/charlie/Desktop/insurance/'"
   ]
  },
  {
   "cell_type": "code",
   "execution_count": 22,
   "metadata": {
    "collapsed": true
   },
   "outputs": [],
   "source": [
    "tr = pd.read_csv(path+'tr9.csv')\n",
    "te = pd.read_csv(path+'te9.csv')\n",
    "#policy = pd.read_csv(path+'policy2.csv')\n",
    "#claim = pd.read_csv(path+'claim_0702.csv')\n",
    "#df = pd.read_csv(path+'abt.csv')"
   ]
  },
  {
   "cell_type": "markdown",
   "metadata": {},
   "source": [
    "# Merge ABT dataset"
   ]
  },
  {
   "cell_type": "code",
   "execution_count": 23,
   "metadata": {
    "collapsed": true
   },
   "outputs": [],
   "source": [
    "from sklearn import preprocessing\n",
    "le = preprocessing.LabelEncoder()\n",
    "tr[\"qpt_qp_v\"] = le.fit_transform(tr.qpt_gp)\n",
    "te[\"qpt_qp_v\"] = le.transform(te.qpt_gp)"
   ]
  },
  {
   "cell_type": "code",
   "execution_count": 25,
   "metadata": {
    "collapsed": true
   },
   "outputs": [],
   "source": [
    "tr = tr.drop([\"qpt_gp\",\"note\"],1)\n",
    "te = te.drop([\"qpt_gp\",\"note\"],1)"
   ]
  },
  {
   "cell_type": "code",
   "execution_count": 8,
   "metadata": {
    "collapsed": true
   },
   "outputs": [],
   "source": [
    "df_features = [col for col in df.columns.values]\n",
    "tr_features = [col for col in tr.columns.values]"
   ]
  },
  {
   "cell_type": "code",
   "execution_count": 15,
   "metadata": {
    "collapsed": true
   },
   "outputs": [],
   "source": [
    "tmp = df[[\"Policy_Number\",'IC_04M_amt',\n",
    " 'IC_04M_ddctb',\n",
    " 'IC_04M_premm',\n",
    " 'IC_05E_amt1',\n",
    " 'IC_05E_amt3',\n",
    " 'IC_05E_premm',\n",
    " 'IC_05N_amt',\n",
    " 'IC_05N_ddctb',\n",
    " 'IC_05N_premm',\n",
    " 'IC_09A_amt',\n",
    " 'IC_09A_premm',\n",
    " 'IC_12L_amt1',\n",
    " 'IC_12L_amt3',\n",
    " 'IC_12L_premm',\n",
    " 'IC_12L_times',\n",
    " 'IC_16G_Times',\n",
    " 'IC_16G_amt1',\n",
    " 'IC_16G_amt3',\n",
    " 'IC_16G_premm',\n",
    " 'IC_16P_amt',\n",
    " 'IC_16P_premm',\n",
    " 'IC_18A_amt1',\n",
    " 'IC_18A_amt3',\n",
    " 'IC_18A_premm',\n",
    " 'IC_18A_times',\n",
    " 'IC_29B_amt',\n",
    " 'IC_29B_premm',\n",
    " 'IC_29K_amt',\n",
    " 'IC_29K_premm',\n",
    "         'MPwT',\n",
    "          'is_claim_by_car',\n",
    " 'is_claim_by_person',\n",
    "          'note',\n",
    "          'paid_tot',\n",
    "          \"qpt_gp\",\n",
    "          \n",
    "         ]]"
   ]
  },
  {
   "cell_type": "code",
   "execution_count": 17,
   "metadata": {
    "collapsed": true
   },
   "outputs": [],
   "source": [
    "tr = pd.merge(tr, tmp, on=\"Policy_Number\", how='left')\n",
    "te = pd.merge(te, tmp, on=\"Policy_Number\", how='left')"
   ]
  },
  {
   "cell_type": "markdown",
   "metadata": {},
   "source": [
    "# Additional features"
   ]
  },
  {
   "cell_type": "code",
   "execution_count": 79,
   "metadata": {
    "collapsed": true
   },
   "outputs": [],
   "source": [
    "tr[\"tot_premium_pdmg\"] = tr.tot_premium * tr.pdmg_acc\n",
    "te[\"tot_premium_pdmg\"] = te.tot_premium * te.pdmg_acc"
   ]
  },
  {
   "cell_type": "code",
   "execution_count": 84,
   "metadata": {
    "collapsed": true
   },
   "outputs": [],
   "source": [
    "tr[\"tot_premium_pdmg_lia\"] = tr.tot_premium * tr.pdmg_acc * tr.lia_class\n",
    "te[\"tot_premium_pdmg_lia\"] = te.tot_premium * te.pdmg_acc * te.lia_class\n",
    "\n",
    "tr[\"tot_premium_pdmg_plia\"] = tr.tot_premium * tr.pdmg_acc * tr.plia_acc\n",
    "te[\"tot_premium_pdmg_plia\"] = te.tot_premium * te.pdmg_acc * te.plia_acc\n",
    "\n",
    "tr[\"tot_premium_lia_plia\"] = tr.tot_premium * tr.lia_class * tr.plia_acc\n",
    "te[\"tot_premium_lia_plia\"] = te.tot_premium * te.lia_class * te.plia_acc\n",
    "\n",
    "tr[\"tot_premium_lia_plia_pdmg\"] = tr.tot_premium * tr.lia_class * tr.plia_acc * tr.pdmg_acc\n",
    "te[\"tot_premium_lia_plia_pdmg\"] = te.tot_premium * te.lia_class * te.plia_acc * te.pdmg_acc"
   ]
  },
  {
   "cell_type": "code",
   "execution_count": 92,
   "metadata": {
    "collapsed": true
   },
   "outputs": [],
   "source": [
    "tr[\"fsex_tot_premium\"] = tr.fsex * tr.tot_premium\n",
    "te[\"fsex_tot_premium\"] = te.fsex * te.tot_premium"
   ]
  },
  {
   "cell_type": "code",
   "execution_count": 93,
   "metadata": {
    "collapsed": true
   },
   "outputs": [],
   "source": [
    "tr[\"tot_premium_engine\"] = tr.tot_premium * tr[\"Engine_Displacement_(Cubic_Centimeter)\"]\n",
    "te[\"tot_premium_engine\"] = te.tot_premium * te[\"Engine_Displacement_(Cubic_Centimeter)\"]"
   ]
  },
  {
   "cell_type": "code",
   "execution_count": 94,
   "metadata": {
    "collapsed": true
   },
   "outputs": [],
   "source": [
    "tr[\"Claim_Number_tot_premium\"] = tr.tot_premium * tr[\"Claim_Number\"]\n",
    "te[\"Claim_Number_tot_premium\"] = te.tot_premium * te[\"Claim_Number\"]"
   ]
  },
  {
   "cell_type": "code",
   "execution_count": 95,
   "metadata": {
    "collapsed": true
   },
   "outputs": [],
   "source": [
    "tr[\"claimants_tot_premium\"] = tr.tot_premium * tr.sum_claimants\n",
    "te[\"claimants_tot_premium\"] = te.tot_premium * te.sum_claimants"
   ]
  },
  {
   "cell_type": "code",
   "execution_count": 96,
   "metadata": {
    "collapsed": true
   },
   "outputs": [],
   "source": [
    "tr[\"tot_premium_div_age\"] = tr.tot_premium / tr.age\n",
    "te[\"tot_premium_div_age\"] = te.tot_premium / te.age"
   ]
  },
  {
   "cell_type": "code",
   "execution_count": 98,
   "metadata": {
    "collapsed": true
   },
   "outputs": [],
   "source": [
    "tr[\"fsex_tot_premium_age\"] = tr.fsex * tr.tot_premium * tr.age\n",
    "te[\"fsex_tot_premium_age\"] = te.fsex * te.tot_premium * te.age"
   ]
  },
  {
   "cell_type": "code",
   "execution_count": 99,
   "metadata": {
    "collapsed": true
   },
   "outputs": [],
   "source": [
    "tr[\"tot_premium_engine_pdmg\"] = tr.tot_premium * tr[\"Engine_Displacement_(Cubic_Centimeter)\"] * tr.pdmg_acc\n",
    "te[\"tot_premium_engine_pdmg\"] = te.tot_premium * te[\"Engine_Displacement_(Cubic_Centimeter)\"] * te.pdmg_acc"
   ]
  },
  {
   "cell_type": "code",
   "execution_count": 100,
   "metadata": {
    "collapsed": true
   },
   "outputs": [],
   "source": [
    "tr[\"tot_premium_engine_lia\"] = tr.tot_premium * tr[\"Engine_Displacement_(Cubic_Centimeter)\"] * tr.lia_class\n",
    "te[\"tot_premium_engine_lia\"] = te.tot_premium * te[\"Engine_Displacement_(Cubic_Centimeter)\"] * te.lia_class"
   ]
  },
  {
   "cell_type": "code",
   "execution_count": 101,
   "metadata": {
    "collapsed": true
   },
   "outputs": [],
   "source": [
    "tr[\"tot_premium_engine_plia\"] = tr.tot_premium * tr[\"Engine_Displacement_(Cubic_Centimeter)\"] * tr.plia_acc\n",
    "te[\"tot_premium_engine_plia\"] = te.tot_premium * te[\"Engine_Displacement_(Cubic_Centimeter)\"] * te.plia_acc"
   ]
  },
  {
   "cell_type": "code",
   "execution_count": 7,
   "metadata": {
    "collapsed": true
   },
   "outputs": [],
   "source": [
    "tr[\"A_type\"] = tr.Replacement_cost_of_insured_vehicle * 0.1\n",
    "te[\"A_type\"] = te.Replacement_cost_of_insured_vehicle * 0.1\n",
    "\n",
    "tr[\"B_type\"] = tr.Replacement_cost_of_insured_vehicle * 0.05\n",
    "te[\"B_type\"] = te.Replacement_cost_of_insured_vehicle * 0.05\n",
    "\n",
    "tr[\"C_type\"] = tr.Replacement_cost_of_insured_vehicle * 0.02\n",
    "te[\"C_type\"] = te.Replacement_cost_of_insured_vehicle * 0.02"
   ]
  },
  {
   "cell_type": "code",
   "execution_count": 21,
   "metadata": {
    "collapsed": true
   },
   "outputs": [],
   "source": [
    "tmp = pd.concat([tr, te], axis=0)\n",
    "tmp = tmp.groupby(\"Insured_ID\", as_index= 0)[\"Claim_Number\"].sum()\n",
    "tmp.columns = [\"Insured_ID\", \"Insured_ID_Claim_Number\"]\n",
    "tr = pd.merge(tr, tmp, on=\"Insured_ID\", how='left')\n",
    "te = pd.merge(te, tmp, on=\"Insured_ID\", how='left')"
   ]
  },
  {
   "cell_type": "code",
   "execution_count": null,
   "metadata": {
    "collapsed": true
   },
   "outputs": [],
   "source": [
    "tmp = pd.concat([tr, te], axis=0)\n",
    "tmp = tmp.groupby(\"Insured_ID\", as_index= 0)[\"Claim_Number\"].sum()\n",
    "tmp.columns = [\"Insured_ID\", \"Insured_ID_Claim_Number\"]\n",
    "tr = pd.merge(tr, tmp, on=\"Insured_ID\", how='left')\n",
    "te = pd.merge(te, tmp, on=\"Insured_ID\", how='left')"
   ]
  },
  {
   "cell_type": "code",
   "execution_count": 32,
   "metadata": {
    "collapsed": true
   },
   "outputs": [],
   "source": [
    "from sklearn import preprocessing\n",
    "le = preprocessing.LabelEncoder()\n",
    "policy[\"identifier\"] = le.fit_transform(policy.Vehicle_identifier)"
   ]
  },
  {
   "cell_type": "code",
   "execution_count": 35,
   "metadata": {
    "collapsed": true
   },
   "outputs": [],
   "source": [
    "tmp = policy.groupby(\"Policy_Number\", as_index=0)[\"identifier\"].first()\n",
    "tr = pd.merge(tr, tmp, on=\"Policy_Number\", how='left')\n",
    "te = pd.merge(te, tmp, on=\"Policy_Number\", how='left')"
   ]
  },
  {
   "cell_type": "code",
   "execution_count": 39,
   "metadata": {
    "collapsed": true
   },
   "outputs": [],
   "source": [
    "df = pd.concat([tr, te], axis=0)\n",
    "tmp = df.groupby(\"identifier\", as_index= 0)[\"Claim_Number\"].sum()"
   ]
  },
  {
   "cell_type": "code",
   "execution_count": 43,
   "metadata": {
    "collapsed": true
   },
   "outputs": [],
   "source": [
    "tmp.columns = [\"identifier\", \"identifier_Claim_Number\"]\n",
    "tr = pd.merge(tr, tmp, on=\"identifier\", how='left')\n",
    "te = pd.merge(te, tmp, on=\"identifier\", how='left')"
   ]
  },
  {
   "cell_type": "code",
   "execution_count": 52,
   "metadata": {
    "collapsed": true
   },
   "outputs": [],
   "source": [
    "tr[\"car_age_multiply_age\"] = tr.car_age * tr.age\n",
    "te[\"car_age_multiply_age\"] = te.car_age * te.age"
   ]
  },
  {
   "cell_type": "code",
   "execution_count": 61,
   "metadata": {
    "collapsed": true
   },
   "outputs": [],
   "source": [
    "tmp = pd.concat([tr, te], axis=0)\n",
    "tmp = tmp.groupby(\"Insured_ID\", as_index= 0)[\"no_fault_count\"].sum()\n",
    "tmp.columns = [\"Insured_ID\", \"Insured_ID_no_fault_count\"]\n",
    "tr = pd.merge(tr, tmp, on=\"Insured_ID\", how='left')\n",
    "te = pd.merge(te, tmp, on=\"Insured_ID\", how='left')"
   ]
  },
  {
   "cell_type": "code",
   "execution_count": 64,
   "metadata": {
    "collapsed": true
   },
   "outputs": [],
   "source": [
    "tmp = pd.concat([tr, te], axis=0)\n",
    "tmp = tmp.groupby(\"identifier\", as_index= 0)[\"no_fault_count\"].sum()\n",
    "tmp.columns = [\"identifier\", \"identifier_no_fault_count\"]\n",
    "tr = pd.merge(tr, tmp, on=\"identifier\", how='left')\n",
    "te = pd.merge(te, tmp, on=\"identifier\", how='left')"
   ]
  },
  {
   "cell_type": "code",
   "execution_count": 68,
   "metadata": {
    "collapsed": true
   },
   "outputs": [],
   "source": [
    "tmp = policy.groupby(\"identifier\", as_index=0).agg({\"Policy_Number\":'nunique'})\n",
    "tmp.columns = [\"identifier\", \"identifier_policy_Number\"]\n",
    "tr = pd.merge(tr, tmp, on=\"identifier\", how='left')\n",
    "te = pd.merge(te, tmp, on=\"identifier\", how='left')"
   ]
  },
  {
   "cell_type": "code",
   "execution_count": 70,
   "metadata": {
    "collapsed": true
   },
   "outputs": [],
   "source": [
    "tr[\"repl_claim_num\"] = tr.Replacement_cost_of_insured_vehicle * tr.Claim_Number\n",
    "te[\"repl_claim_num\"] = te.Replacement_cost_of_insured_vehicle * te.Claim_Number"
   ]
  },
  {
   "cell_type": "code",
   "execution_count": 15,
   "metadata": {
    "collapsed": true
   },
   "outputs": [],
   "source": [
    "tmp = policy[policy.Premium == 0]\n",
    "tmp = tmp.groupby(\"Policy_Number\", as_index=0)[\"Premium\"].count()\n",
    "tmp.columns = [\"Policy_Number\", \"num_zero_premium\"]\n",
    "tr = pd.merge(tr, tmp, on=\"Policy_Number\", how='left')\n",
    "te = pd.merge(te, tmp, on=\"Policy_Number\", how='left')"
   ]
  },
  {
   "cell_type": "code",
   "execution_count": 53,
   "metadata": {
    "collapsed": true
   },
   "outputs": [],
   "source": [
    "# 被保險人年齡分組\n",
    "tr.loc[tr.age < 20, 'age_class'] = 0\n",
    "tr.loc[(tr.age >= 20)&( tr.age < 25), 'age_class'] = 1\n",
    "tr.loc[(tr.age >= 25)&( tr.age < 30), 'age_class'] = 2\n",
    "tr.loc[(tr.age >= 30)&( tr.age < 60), 'age_class'] = 3\n",
    "tr.loc[(tr.age >= 60)&( tr.age < 70), 'age_class'] = 4\n",
    "tr.loc[tr.age >= 70, 'age_class'] = 5\n",
    "\n",
    "te.loc[te.age < 20, 'age_class'] = 0\n",
    "te.loc[(te.age >= 20)&( te.age < 25), 'age_class'] = 1\n",
    "te.loc[(te.age >= 25)&( te.age < 30), 'age_class'] = 2\n",
    "te.loc[(te.age >= 30)&( te.age < 60), 'age_class'] = 3\n",
    "te.loc[(te.age >= 60)&( te.age < 70), 'age_class'] = 4\n",
    "te.loc[te.age >= 70, 'age_class'] = 5"
   ]
  },
  {
   "cell_type": "code",
   "execution_count": 5,
   "metadata": {
    "collapsed": true
   },
   "outputs": [],
   "source": [
    "#fsex = 1 男 、 2 女\n",
    "# age_class\n",
    "tr.loc[(tr.fsex == 1) & (tr.age_class == 0), 'third_human_coefficient'] = 1.89\n",
    "tr.loc[(tr.fsex == 1) & (tr.age_class == 1), 'third_human_coefficient'] = 1.74\n",
    "tr.loc[(tr.fsex == 1) & (tr.age_class == 2), 'third_human_coefficient'] = 1.15\n",
    "tr.loc[(tr.fsex == 1) & (tr.age_class == 3), 'third_human_coefficient'] = 1\n",
    "tr.loc[(tr.fsex == 1) & (tr.age_class == 4), 'third_human_coefficient'] = 1.07\n",
    "tr.loc[(tr.fsex == 1) & (tr.age_class == 5), 'third_human_coefficient'] = 1.07\n",
    "\n",
    "te.loc[(te.fsex == 1) & (te.age_class == 0), 'third_human_coefficient'] = 1.89\n",
    "te.loc[(te.fsex == 1) & (te.age_class == 1), 'third_human_coefficient'] = 1.74\n",
    "te.loc[(te.fsex == 1) & (te.age_class == 2), 'third_human_coefficient'] = 1.15\n",
    "te.loc[(te.fsex == 1) & (te.age_class == 3), 'third_human_coefficient'] = 1\n",
    "te.loc[(te.fsex == 1) & (te.age_class == 4), 'third_human_coefficient'] = 1.07\n",
    "te.loc[(te.fsex == 1) & (te.age_class == 5), 'third_human_coefficient'] = 1.07\n",
    "\n",
    "tr.loc[(tr.fsex == 2) & (tr.age_class == 0), 'third_human_coefficient'] = 1.7\n",
    "tr.loc[(tr.fsex == 2) & (tr.age_class == 1), 'third_human_coefficient'] = 1.57\n",
    "tr.loc[(tr.fsex == 2) & (tr.age_class == 2), 'third_human_coefficient'] = 1.04\n",
    "tr.loc[(tr.fsex == 2) & (tr.age_class == 3), 'third_human_coefficient'] = 0.9\n",
    "tr.loc[(tr.fsex == 2) & (tr.age_class == 4), 'third_human_coefficient'] = 0.96\n",
    "tr.loc[(tr.fsex == 2) & (tr.age_class == 5), 'third_human_coefficient'] = 0.96\n",
    "\n",
    "te.loc[(te.fsex == 2) & (te.age_class == 0), 'third_human_coefficient'] = 1.7\n",
    "te.loc[(te.fsex == 2) & (te.age_class == 1), 'third_human_coefficient'] = 1.57\n",
    "te.loc[(te.fsex == 2) & (te.age_class == 2), 'third_human_coefficient'] = 1.04\n",
    "te.loc[(te.fsex == 2) & (te.age_class == 3), 'third_human_coefficient'] = 0.9\n",
    "te.loc[(te.fsex == 2) & (te.age_class == 4), 'third_human_coefficient'] = 0.96\n",
    "te.loc[(te.fsex == 2) & (te.age_class == 5), 'third_human_coefficient'] = 0.96"
   ]
  },
  {
   "cell_type": "code",
   "execution_count": 54,
   "metadata": {
    "collapsed": true
   },
   "outputs": [],
   "source": [
    "#fsex = 1 男 、 2 女\n",
    "# age_class\n",
    "tr.loc[(tr.fsex == 1) & (tr.age_class == 0), 'human_coefficient'] = 2.5\n",
    "tr.loc[(tr.fsex == 1) & (tr.age_class == 1), 'human_coefficient'] = 2.3\n",
    "tr.loc[(tr.fsex == 1) & (tr.age_class == 2), 'human_coefficient'] = 1.47\n",
    "tr.loc[(tr.fsex == 1) & (tr.age_class == 3), 'human_coefficient'] = 1\n",
    "tr.loc[(tr.fsex == 1) & (tr.age_class >= 4), 'human_coefficient'] = 1.05\n",
    "\n",
    "te.loc[(te.fsex == 1) & (te.age_class == 0), 'human_coefficient'] = 2.5\n",
    "te.loc[(te.fsex == 1) & (te.age_class == 1), 'human_coefficient'] = 2.3\n",
    "te.loc[(te.fsex == 1) & (te.age_class == 2), 'human_coefficient'] = 1.47\n",
    "te.loc[(te.fsex == 1) & (te.age_class == 3), 'human_coefficient'] = 1\n",
    "te.loc[(te.fsex == 1) & (te.age_class >= 4), 'human_coefficient'] = 1.05\n",
    "\n",
    "\n",
    "tr.loc[(tr.fsex == 2) & (tr.age_class == 0), 'human_coefficient'] = 1.66\n",
    "tr.loc[(tr.fsex == 2) & (tr.age_class == 1), 'human_coefficient'] = 1.53\n",
    "tr.loc[(tr.fsex == 2) & (tr.age_class == 2), 'human_coefficient'] = 1.06\n",
    "tr.loc[(tr.fsex == 2) & (tr.age_class == 3), 'human_coefficient'] = 0.92\n",
    "tr.loc[(tr.fsex == 2) & (tr.age_class >= 4), 'human_coefficient'] = 0.79\n",
    "\n",
    "te.loc[(te.fsex == 2) & (te.age_class == 0), 'human_coefficient'] = 1.66\n",
    "te.loc[(te.fsex == 2) & (te.age_class == 1), 'human_coefficient'] = 1.53\n",
    "te.loc[(te.fsex == 2) & (te.age_class == 2), 'human_coefficient'] = 1.06\n",
    "te.loc[(te.fsex == 2) & (te.age_class == 3), 'human_coefficient'] = 0.92\n",
    "te.loc[(te.fsex == 2) & (te.age_class >= 4), 'human_coefficient'] = 0.79"
   ]
  },
  {
   "cell_type": "code",
   "execution_count": 66,
   "metadata": {
    "collapsed": true
   },
   "outputs": [],
   "source": [
    "# 被保險人年齡分組\n",
    "tr.loc[tr[\"Engine_Displacement_(Cubic_Centimeter)\"] <= 500, 'engine_class'] = 1\n",
    "tr.loc[(tr[\"Engine_Displacement_(Cubic_Centimeter)\"] >= 501)&( tr[\"Engine_Displacement_(Cubic_Centimeter)\"] <= 600), 'engine_class'] = 2\n",
    "tr.loc[(tr[\"Engine_Displacement_(Cubic_Centimeter)\"] >= 601)&( tr[\"Engine_Displacement_(Cubic_Centimeter)\"] <= 1200), 'engine_class'] = 3\n",
    "tr.loc[(tr[\"Engine_Displacement_(Cubic_Centimeter)\"] >= 1201)&( tr[\"Engine_Displacement_(Cubic_Centimeter)\"] <= 1800), 'engine_class'] = 4\n",
    "tr.loc[(tr[\"Engine_Displacement_(Cubic_Centimeter)\"] >= 1801)&( tr[\"Engine_Displacement_(Cubic_Centimeter)\"] <= 2400), 'engine_class'] = 5\n",
    "tr.loc[(tr[\"Engine_Displacement_(Cubic_Centimeter)\"] >= 2401)&( tr[\"Engine_Displacement_(Cubic_Centimeter)\"] <= 3000), 'engine_class'] = 6\n",
    "tr.loc[(tr[\"Engine_Displacement_(Cubic_Centimeter)\"] >= 3001)&( tr[\"Engine_Displacement_(Cubic_Centimeter)\"] <= 4200), 'engine_class'] = 7 \n",
    "tr.loc[(tr[\"Engine_Displacement_(Cubic_Centimeter)\"] >= 4201)&( tr[\"Engine_Displacement_(Cubic_Centimeter)\"] <= 5400), 'engine_class'] = 8\n",
    "tr.loc[(tr[\"Engine_Displacement_(Cubic_Centimeter)\"] >= 5401)&( tr[\"Engine_Displacement_(Cubic_Centimeter)\"] <= 6600), 'engine_class'] = 9\n",
    "tr.loc[(tr[\"Engine_Displacement_(Cubic_Centimeter)\"] >= 6601)&( tr[\"Engine_Displacement_(Cubic_Centimeter)\"] <= 7800), 'engine_class'] = 10\n",
    "tr.loc[tr[\"Engine_Displacement_(Cubic_Centimeter)\"] > 7800, 'engine_class'] = 11   \n",
    "\n",
    "\n",
    "\n",
    "te.loc[te[\"Engine_Displacement_(Cubic_Centimeter)\"] <= 500, 'engine_class'] = 1\n",
    "te.loc[(te[\"Engine_Displacement_(Cubic_Centimeter)\"] >= 501)&( te[\"Engine_Displacement_(Cubic_Centimeter)\"] <= 600), 'engine_class'] = 2\n",
    "te.loc[(te[\"Engine_Displacement_(Cubic_Centimeter)\"] >= 601)&( te[\"Engine_Displacement_(Cubic_Centimeter)\"] <= 1200), 'engine_class'] = 3\n",
    "te.loc[(te[\"Engine_Displacement_(Cubic_Centimeter)\"] >= 1201)&( te[\"Engine_Displacement_(Cubic_Centimeter)\"] <= 1800), 'engine_class'] = 4\n",
    "te.loc[(te[\"Engine_Displacement_(Cubic_Centimeter)\"] >= 1801)&( te[\"Engine_Displacement_(Cubic_Centimeter)\"] <= 2400), 'engine_class'] = 5\n",
    "te.loc[(te[\"Engine_Displacement_(Cubic_Centimeter)\"] >= 2401)&( te[\"Engine_Displacement_(Cubic_Centimeter)\"] <= 3000), 'engine_class'] = 6\n",
    "te.loc[(te[\"Engine_Displacement_(Cubic_Centimeter)\"] >= 3001)&( te[\"Engine_Displacement_(Cubic_Centimeter)\"] <= 4200), 'engine_class'] = 7 \n",
    "te.loc[(te[\"Engine_Displacement_(Cubic_Centimeter)\"] >= 4201)&( te[\"Engine_Displacement_(Cubic_Centimeter)\"] <= 5400), 'engine_class'] = 8\n",
    "te.loc[(te[\"Engine_Displacement_(Cubic_Centimeter)\"] >= 5401)&( te[\"Engine_Displacement_(Cubic_Centimeter)\"] <= 6600), 'engine_class'] = 9\n",
    "te.loc[(te[\"Engine_Displacement_(Cubic_Centimeter)\"] >= 6601)&( te[\"Engine_Displacement_(Cubic_Centimeter)\"] <= 7800), 'engine_class'] = 10\n",
    "te.loc[te[\"Engine_Displacement_(Cubic_Centimeter)\"] > 7800, 'engine_class'] = 11\n"
   ]
  },
  {
   "cell_type": "code",
   "execution_count": 81,
   "metadata": {
    "collapsed": true
   },
   "outputs": [],
   "source": [
    "tmp = policy.groupby(\"Policy_Number\", as_index=0)[[\"Vehicle_Make_and_Model1\",\"Engine_Displacement_(Cubic_Centimeter)\",\"qpt\",\"Coding_of_Vehicle_Branding_&_Type\",\n",
    "                                                   \"Replacement_cost_of_insured_vehicle\",\"fequipment1\",\n",
    "                                            \"fequipment2\",\"fequipment3\",\"fequipment4\",\"fequipment5\",\"fequipment6\",\n",
    "                                            \"fequipment9\",\"nequipment9\"]].first()"
   ]
  },
  {
   "cell_type": "code",
   "execution_count": 37,
   "metadata": {},
   "outputs": [
    {
     "data": {
      "text/html": [
       "<div>\n",
       "<style>\n",
       "    .dataframe thead tr:only-child th {\n",
       "        text-align: right;\n",
       "    }\n",
       "\n",
       "    .dataframe thead th {\n",
       "        text-align: left;\n",
       "    }\n",
       "\n",
       "    .dataframe tbody tr th {\n",
       "        vertical-align: top;\n",
       "    }\n",
       "</style>\n",
       "<table border=\"1\" class=\"dataframe\">\n",
       "  <thead>\n",
       "    <tr style=\"text-align: right;\">\n",
       "      <th></th>\n",
       "      <th>Policy_Number</th>\n",
       "      <th>Vehicle_Make_and_Model1</th>\n",
       "      <th>Engine_Displacement_(Cubic_Centimeter)</th>\n",
       "      <th>qpt</th>\n",
       "      <th>fequipment1</th>\n",
       "      <th>fequipment2</th>\n",
       "      <th>fequipment3</th>\n",
       "      <th>fequipment4</th>\n",
       "      <th>fequipment5</th>\n",
       "      <th>fequipment6</th>\n",
       "      <th>fequipment9</th>\n",
       "      <th>nequipment9</th>\n",
       "    </tr>\n",
       "  </thead>\n",
       "  <tbody>\n",
       "    <tr>\n",
       "      <th>33785</th>\n",
       "      <td>187a117d958dd781781f43ea623633bd6d249ed3</td>\n",
       "      <td>7f92312f8d18f6c9b75704c5bb9a9b8f500b47c5</td>\n",
       "      <td>10</td>\n",
       "      <td>2.0</td>\n",
       "      <td>0</td>\n",
       "      <td>0</td>\n",
       "      <td>0</td>\n",
       "      <td>0</td>\n",
       "      <td>0</td>\n",
       "      <td>0</td>\n",
       "      <td>0</td>\n",
       "      <td></td>\n",
       "    </tr>\n",
       "  </tbody>\n",
       "</table>\n",
       "</div>"
      ],
      "text/plain": [
       "                                  Policy_Number  \\\n",
       "33785  187a117d958dd781781f43ea623633bd6d249ed3   \n",
       "\n",
       "                        Vehicle_Make_and_Model1  \\\n",
       "33785  7f92312f8d18f6c9b75704c5bb9a9b8f500b47c5   \n",
       "\n",
       "       Engine_Displacement_(Cubic_Centimeter)  qpt  fequipment1  fequipment2  \\\n",
       "33785                                      10  2.0            0            0   \n",
       "\n",
       "       fequipment3  fequipment4  fequipment5  fequipment6  fequipment9  \\\n",
       "33785            0            0            0            0            0   \n",
       "\n",
       "      nequipment9  \n",
       "33785              "
      ]
     },
     "execution_count": 37,
     "metadata": {},
     "output_type": "execute_result"
    }
   ],
   "source": [
    "# 0:輕型摩托車 1\n",
    "tmp.loc[(tmp.qpt <= 2) & (tmp[\"Engine_Displacement_(Cubic_Centimeter)\"] <=50),\"vehicle_type\"] = 0\n",
    "\n",
    "# 2: 大型重型機車 17676\n",
    "tmp.loc[(tmp.qpt <= 2) & (tmp[\"Engine_Displacement_(Cubic_Centimeter)\"] >250),\"vehicle_type\"] = 2"
   ]
  },
  {
   "cell_type": "code",
   "execution_count": 128,
   "metadata": {
    "collapsed": true
   },
   "outputs": [],
   "source": [
    "policy[\"nequipment9_v\"] = policy.nequipment9.str.replace(\" \",\"\")"
   ]
  },
  {
   "cell_type": "code",
   "execution_count": 129,
   "metadata": {},
   "outputs": [
    {
     "data": {
      "text/plain": [
       "          1747906\n",
       "大包             11\n",
       "5合1影音          10\n",
       "伸尾              9\n",
       "原裝車含配備          6\n",
       "Name: nequipment9_v, dtype: int64"
      ]
     },
     "execution_count": 129,
     "metadata": {},
     "output_type": "execute_result"
    }
   ],
   "source": [
    "policy.nequipment9_v.value_counts()"
   ]
  },
  {
   "cell_type": "code",
   "execution_count": 131,
   "metadata": {
    "collapsed": true
   },
   "outputs": [],
   "source": [
    "from sklearn import preprocessing\n",
    "le = preprocessing.LabelEncoder()\n",
    "policy[\"nequipment9_v2\"] = le.fit_transform(policy.nequipment9_v)"
   ]
  },
  {
   "cell_type": "code",
   "execution_count": 135,
   "metadata": {
    "collapsed": true
   },
   "outputs": [],
   "source": [
    "tmp = policy.groupby(\"Policy_Number\", as_index=0)[\"nequipment9_v2\"].first()\n",
    "tr = pd.merge(tr, tmp, on=\"Policy_Number\", how='left')\n",
    "te = pd.merge(te, tmp, on=\"Policy_Number\", how='left')"
   ]
  },
  {
   "cell_type": "code",
   "execution_count": 138,
   "metadata": {},
   "outputs": [
    {
     "data": {
      "text/plain": [
       "0    210759\n",
       "4         1\n",
       "3         1\n",
       "2         1\n",
       "1         1\n",
       "Name: nequipment9_v2, dtype: int64"
      ]
     },
     "execution_count": 138,
     "metadata": {},
     "output_type": "execute_result"
    }
   ],
   "source": [
    "tr.nequipment9_v2.value_counts()"
   ]
  },
  {
   "cell_type": "code",
   "execution_count": 141,
   "metadata": {
    "collapsed": true
   },
   "outputs": [],
   "source": [
    "tr[\"nequipment9\"] = np.where(tr.nequipment9_v2 == 0, 0, 1 )\n",
    "te[\"nequipment9\"] = np.where(te.nequipment9_v2 == 0, 0, 1 )"
   ]
  },
  {
   "cell_type": "code",
   "execution_count": null,
   "metadata": {
    "collapsed": true
   },
   "outputs": [],
   "source": [
    "from sklearn import preprocessing\n",
    "le = preprocessing.LabelEncoder()\n",
    "claim[\"cause\"] = le.fit_transform(claim.Cause_of_Loss)"
   ]
  },
  {
   "cell_type": "code",
   "execution_count": null,
   "metadata": {
    "collapsed": true
   },
   "outputs": [],
   "source": [
    "claim[claim.Policy_Number == \"0004a3f30deef9fc8f9f5cb334b8bec8d79c7453\"]"
   ]
  },
  {
   "cell_type": "code",
   "execution_count": null,
   "metadata": {
    "collapsed": true
   },
   "outputs": [],
   "source": [
    "tmp = claim.groupby(\"Policy_Number\", as_index=0).agg({\"Cause_of_Loss\":\"nunique\"})\n",
    "tmp.columns = [\"Policy_Number\", \"nunique_Cause_of_Loss\"]\n",
    "tr = pd.merge(tr, tmp, on=\"Policy_Number\", how='left')\n",
    "te = pd.merge(te, tmp, on=\"Policy_Number\", how='left')"
   ]
  },
  {
   "cell_type": "code",
   "execution_count": null,
   "metadata": {
    "collapsed": true
   },
   "outputs": [],
   "source": [
    "tmp = claim.groupby([\"Policy_Number\", \"Cause_of_Loss\"], as_index=0)[\"Claim_Number\"].count()\n",
    "tmp.Claim_Number = np.where(tmp.Claim_Number > 0, 1, 0)\n",
    "tmp = tmp.pivot_table(columns=\"Cause_of_Loss\", values=\"Claim_Number\", index=\"Policy_Number\")\n",
    "tmp.columns = [\"cause_of_claim_\" + str(i) for i in range(17)]\n",
    "tmp[\"Policy_Number\"] = tmp.index\n",
    "#tmp = tmp.fillna(0)"
   ]
  },
  {
   "cell_type": "code",
   "execution_count": null,
   "metadata": {
    "collapsed": true
   },
   "outputs": [],
   "source": [
    "tr = pd.merge(tr, tmp, on=\"Policy_Number\", how='left')\n",
    "te = pd.merge(te, tmp, on=\"Policy_Number\", how='left')"
   ]
  },
  {
   "cell_type": "code",
   "execution_count": null,
   "metadata": {
    "collapsed": true
   },
   "outputs": [],
   "source": [
    "claim[\"Accident_month\"] = claim.Accident_Date.str.split(\"/\").str[1].astype('int')"
   ]
  },
  {
   "cell_type": "code",
   "execution_count": null,
   "metadata": {
    "collapsed": true
   },
   "outputs": [],
   "source": [
    "claim = claim.groupby([\"Policy_Number\", \"Claim_Number\"], as_index=0)[\"Accident_month\"].first()\n",
    "claim = claim.sort_values([\"Policy_Number\",\"Accident_month\"],ascending=[1,1])"
   ]
  },
  {
   "cell_type": "code",
   "execution_count": null,
   "metadata": {
    "collapsed": true
   },
   "outputs": [],
   "source": [
    "claim[\"diff\"] = claim.groupby('Policy_Number')[\"Accident_month\"].diff()"
   ]
  },
  {
   "cell_type": "code",
   "execution_count": null,
   "metadata": {
    "collapsed": true
   },
   "outputs": [],
   "source": [
    "tmp = claim.groupby(\"Policy_Number\", as_index=0).agg({\"diff\":['min','max','mean']})\n",
    "tmp.columns = [\"Policy_Number\", \"min_diff\",\"max_diff\",\"mean_diff\"]"
   ]
  },
  {
   "cell_type": "code",
   "execution_count": null,
   "metadata": {
    "collapsed": true
   },
   "outputs": [],
   "source": [
    "tr = pd.merge(tr, tmp, on=\"Policy_Number\", how='left')\n",
    "te = pd.merge(te, tmp, on=\"Policy_Number\", how='left')"
   ]
  },
  {
   "cell_type": "code",
   "execution_count": null,
   "metadata": {
    "collapsed": true
   },
   "outputs": [],
   "source": [
    "policy[\"dbirth_month\"] = policy.dbirth.str.split(\"/\").str[0]"
   ]
  },
  {
   "cell_type": "code",
   "execution_count": null,
   "metadata": {
    "collapsed": true
   },
   "outputs": [],
   "source": [
    "policy.dbirth_month = policy.dbirth_month.fillna(0)"
   ]
  },
  {
   "cell_type": "code",
   "execution_count": null,
   "metadata": {
    "collapsed": true
   },
   "outputs": [],
   "source": [
    "policy.dbirth_month = policy.dbirth_month.astype('int')"
   ]
  },
  {
   "cell_type": "code",
   "execution_count": null,
   "metadata": {
    "collapsed": true
   },
   "outputs": [],
   "source": [
    "policy[\"ibirth_month\"] = policy.ibirth.str.split(\"/\").str[0]\n",
    "policy.ibirth_month = policy.ibirth_month.fillna(0)\n",
    "policy.ibirth_month = policy.ibirth_month.astype('int')"
   ]
  },
  {
   "cell_type": "code",
   "execution_count": null,
   "metadata": {
    "collapsed": true
   },
   "outputs": [],
   "source": [
    "tmp = policy.groupby(\"Policy_Number\", as_index=0)[[\"ibirth_month\",\"dbirth_month\"]].first()\n"
   ]
  },
  {
   "cell_type": "code",
   "execution_count": null,
   "metadata": {
    "collapsed": true
   },
   "outputs": [],
   "source": [
    "tr = pd.merge(tr, tmp, on=\"Policy_Number\", how='left')\n",
    "te = pd.merge(te, tmp, on=\"Policy_Number\", how='left')"
   ]
  },
  {
   "cell_type": "code",
   "execution_count": null,
   "metadata": {
    "collapsed": true
   },
   "outputs": [],
   "source": [
    "tr['d_age_age_diff'] = tr.d_age - tr.age\n",
    "te['d_age_age_diff'] = te.d_age - te.age\n",
    "\n",
    "tr['d_age_age_ratio'] = tr.age - tr.d_age\n",
    "te['d_age_age_ratio'] = te.age - te.d_age"
   ]
  },
  {
   "cell_type": "code",
   "execution_count": 73,
   "metadata": {
    "collapsed": true
   },
   "outputs": [],
   "source": [
    "# Insured's_ID\n",
    "tmp = policy.groupby(\"Vehicle_identifier\", as_index=0).agg({\"Policy_Number\":'nunique'})\n",
    "tmp.columns = [\"Vehicle_identifier\", \"Vehicle_identifier_nunique_policy\"]\n",
    "tmp2 = pd.merge(policy, tmp, on=\"Vehicle_identifier\", how='left')\n",
    "tmp2 = tmp2.groupby(\"Policy_Number\",as_index=0)[\"Vehicle_identifier_nunique_policy\"].first()\n",
    "tr = pd.merge(tr, tmp2, on=\"Policy_Number\", how='left')\n",
    "te = pd.merge(te, tmp2, on=\"Policy_Number\", how='left')"
   ]
  },
  {
   "cell_type": "code",
   "execution_count": 90,
   "metadata": {
    "collapsed": true
   },
   "outputs": [],
   "source": [
    "tmp = policy.groupby(\"Insured's_ID\", as_index=0).agg({\"Policy_Number\":'nunique'})\n",
    "tmp.columns = [\"Insured's_ID\", \"Insured_ID_nunique_policy\"]\n",
    "policy = pd.merge(policy, tmp, on=\"Insured's_ID\", how='left')\n",
    "tmp = policy.groupby(\"Policy_Number\", as_index=0)[\"Insured_ID_nunique_policy\"].first()\n",
    "tr = pd.merge(tr, tmp, on=\"Policy_Number\", how='left')\n",
    "te = pd.merge(te, tmp, on=\"Policy_Number\", how='left')"
   ]
  },
  {
   "cell_type": "code",
   "execution_count": 96,
   "metadata": {
    "collapsed": true
   },
   "outputs": [],
   "source": [
    "from sklearn import preprocessing\n",
    "le = preprocessing.LabelEncoder()\n",
    "policy[\"Insured_ID\"] = le.fit_transform(policy[\"Insured's_ID\"])"
   ]
  },
  {
   "cell_type": "code",
   "execution_count": 100,
   "metadata": {
    "collapsed": true
   },
   "outputs": [],
   "source": [
    "tmp = policy.groupby(\"Policy_Number\",as_index=0)[\"Insured_ID\"].first()\n",
    "tr = pd.merge(tr, tmp, on=\"Policy_Number\", how='left')\n",
    "te = pd.merge(te, tmp, on=\"Policy_Number\", how='left')"
   ]
  },
  {
   "cell_type": "code",
   "execution_count": 106,
   "metadata": {
    "collapsed": true
   },
   "outputs": [],
   "source": [
    "tmp = policy.groupby(\"Vehicle_identifier\", as_index=0).agg({\"Policy_Number\":'nunique'})\n",
    "tmp.columns = [\"Vehicle_identifier\", \"Vehicle_identifier_nunique_policy\"]"
   ]
  },
  {
   "cell_type": "code",
   "execution_count": 126,
   "metadata": {
    "collapsed": true
   },
   "outputs": [],
   "source": [
    "tmp = policy.groupby(\"Insured_ID\", as_index=0).agg({\"Vehicle_identifier\":'nunique'})\n",
    "tmp.columns = [\"Insured_ID\", 'Insured_ID_Vehicle_count']\n",
    "tr = pd.merge(tr, tmp, on=\"Insured_ID\", how='left')\n",
    "te = pd.merge(te, tmp, on=\"Insured_ID\", how='left')"
   ]
  },
  {
   "cell_type": "code",
   "execution_count": 26,
   "metadata": {
    "collapsed": true
   },
   "outputs": [],
   "source": [
    "tr.to_csv(path+'tr9.csv', encoding='utf-8', index=False)\n",
    "te.to_csv(path+'te9.csv', encoding='utf-8', index=False)"
   ]
  }
 ],
 "metadata": {
  "kernelspec": {
   "display_name": "Python 2",
   "language": "python",
   "name": "python2"
  },
  "language_info": {
   "codemirror_mode": {
    "name": "ipython",
    "version": 2
   },
   "file_extension": ".py",
   "mimetype": "text/x-python",
   "name": "python",
   "nbconvert_exporter": "python",
   "pygments_lexer": "ipython2",
   "version": "2.7.13"
  }
 },
 "nbformat": 4,
 "nbformat_minor": 2
}
