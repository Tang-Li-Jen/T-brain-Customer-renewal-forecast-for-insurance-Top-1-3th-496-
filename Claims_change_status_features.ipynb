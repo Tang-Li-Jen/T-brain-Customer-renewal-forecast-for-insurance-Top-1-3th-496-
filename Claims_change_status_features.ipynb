{
 "cells": [
  {
   "cell_type": "code",
   "execution_count": 1,
   "metadata": {},
   "outputs": [
    {
     "name": "stderr",
     "output_type": "stream",
     "text": [
      "/usr/local/lib/python2.7/site-packages/sklearn/cross_validation.py:44: DeprecationWarning: This module was deprecated in version 0.18 in favor of the model_selection module into which all the refactored classes and functions are moved. Also note that the interface of the new CV iterators are different from that of this module. This module will be removed in 0.20.\n",
      "  \"This module will be removed in 0.20.\", DeprecationWarning)\n"
     ]
    }
   ],
   "source": [
    "import pandas as pd\n",
    "import numpy as np\n",
    "import os\n",
    "import glob\n",
    "from datetime import datetime\n",
    "import matplotlib.pyplot as plt\n",
    "import seaborn as sns\n",
    "from sklearn.model_selection import train_test_split, GridSearchCV,StratifiedKFold\n",
    "from sklearn.metrics import mean_absolute_error\n",
    "from sklearn.cross_validation import KFold\n",
    "from sklearn import preprocessing\n",
    "from lightgbm import LGBMRegressor\n",
    "import xgboost as xgb\n",
    "from sklearn.cluster import KMeans\n",
    "from sklearn import metrics\n",
    "from sklearn.feature_extraction import FeatureHasher"
   ]
  },
  {
   "cell_type": "code",
   "execution_count": 2,
   "metadata": {
    "collapsed": true
   },
   "outputs": [],
   "source": [
    "path = '/Users/charlie/Desktop/insurance/'\n",
    "#glob.glob(os.path.join(path,'*'))"
   ]
  },
  {
   "cell_type": "code",
   "execution_count": 3,
   "metadata": {
    "collapsed": true
   },
   "outputs": [],
   "source": [
    "#tr = pd.read_csv(path+ 'training-set.csv')\n",
    "#te = pd.read_csv(path+ 'testing-set.csv')\n",
    "#claim = pd.read_csv(path+ 'claim_0702.csv')\n",
    "#policy = pd.read_csv(path+ 'policy_0702.csv')\n",
    "tr = pd.read_csv(path+ 'tr3.csv')\n",
    "te = pd.read_csv(path+ 'te3.csv')\n",
    "#print len(tr)\n",
    "#print len(te)"
   ]
  },
  {
   "cell_type": "code",
   "execution_count": 19,
   "metadata": {
    "collapsed": true
   },
   "outputs": [],
   "source": [
    "policy[\"no_coverage_deductible\"] = np.where(policy.Coverage_Deductible_if_applied == 0, 1, 0)\n",
    "policy[\"withdrawl_policy\"] = np.where(policy.Coverage_Deductible_if_applied < 0, 1, 0)"
   ]
  },
  {
   "cell_type": "code",
   "execution_count": 20,
   "metadata": {
    "collapsed": true
   },
   "outputs": [],
   "source": [
    "tmp = policy.groupby('Policy_Number', as_index=False)['no_coverage_deductible'].sum()\n",
    "tmp.columns = ['Policy_Number', 'no_coverage_deductible_count']\n",
    "tr = pd.merge(tr, tmp, on='Policy_Number', how='left')\n",
    "te = pd.merge(te, tmp, on='Policy_Number', how='left')"
   ]
  },
  {
   "cell_type": "code",
   "execution_count": 21,
   "metadata": {
    "collapsed": true
   },
   "outputs": [],
   "source": [
    "tmp = policy.groupby('Policy_Number', as_index=False)['withdrawl_policy'].sum()\n",
    "tmp.columns = ['Policy_Number', 'withdrawl_policy_count']\n",
    "tr = pd.merge(tr, tmp, on='Policy_Number', how='left')\n",
    "te = pd.merge(te, tmp, on='Policy_Number', how='left')"
   ]
  },
  {
   "cell_type": "code",
   "execution_count": null,
   "metadata": {
    "collapsed": true
   },
   "outputs": [],
   "source": [
    "policy.loc[policy.fmarriage.isnull(),'fmarriage'] = '0' \n",
    "policy.loc[policy.fmarriage == ' ', 'fmarriage'] = '0'\n",
    "policy.fmarriage = policy.fmarriage.astype('int')"
   ]
  },
  {
   "cell_type": "code",
   "execution_count": 73,
   "metadata": {
    "collapsed": true
   },
   "outputs": [],
   "source": [
    "df = policy.groupby('Policy_Number')[[\"Policy_Number\",\"Insured's_ID\",\"Prior_Policy_Number\",\"Cancellation\",\n",
    "                                     \"Vehicle_identifier\",\"fmarriage\",\"ibirth\",\"fassured\"]].first()"
   ]
  },
  {
   "cell_type": "code",
   "execution_count": 74,
   "metadata": {
    "collapsed": true
   },
   "outputs": [],
   "source": [
    "tmp = pd.merge(df, claim, on=['Policy_Number'])"
   ]
  },
  {
   "cell_type": "code",
   "execution_count": 30,
   "metadata": {},
   "outputs": [
    {
     "name": "stderr",
     "output_type": "stream",
     "text": [
      "/usr/local/lib/python2.7/site-packages/ipykernel_launcher.py:3: SettingWithCopyWarning: \n",
      "A value is trying to be set on a copy of a slice from a DataFrame.\n",
      "Try using .loc[row_indexer,col_indexer] = value instead\n",
      "\n",
      "See the caveats in the documentation: http://pandas.pydata.org/pandas-docs/stable/indexing.html#indexing-view-versus-copy\n",
      "  This is separate from the ipykernel package so we can avoid doing imports until\n"
     ]
    }
   ],
   "source": [
    "# 是否曾汽車過戶\n",
    "tmp2 = tmp[tmp[\"Driver's_Relationship_with_Insured\"] == 1]\n",
    "tmp2['same_driver'] = np.where(tmp2.ibirth == tmp2.DOB_of_Driver, 1, 0)\n",
    "print tmp2.same_driver.value_counts()\n",
    "tmp3 = tmp2.groupby('Policy_Number', as_index=0)[\"same_driver\"].min()\n",
    "tmp3[\"transfer\"] = np.where(tmp3.same_driver == 1, 0, 1)\n",
    "tr = pd.merge(tr, tmp3[[\"Policy_Number\",\"transfer\"]], how = 'left', on = 'Policy_Number')\n",
    "te = pd.merge(te, tmp3[[\"Policy_Number\",\"transfer\"]], how = 'left', on = 'Policy_Number') "
   ]
  },
  {
   "cell_type": "code",
   "execution_count": 82,
   "metadata": {},
   "outputs": [
    {
     "name": "stderr",
     "output_type": "stream",
     "text": [
      "/usr/local/lib/python2.7/site-packages/ipykernel_launcher.py:3: SettingWithCopyWarning: \n",
      "A value is trying to be set on a copy of a slice from a DataFrame.\n",
      "Try using .loc[row_indexer,col_indexer] = value instead\n",
      "\n",
      "See the caveats in the documentation: http://pandas.pydata.org/pandas-docs/stable/indexing.html#indexing-view-versus-copy\n",
      "  This is separate from the ipykernel package so we can avoid doing imports until\n"
     ]
    },
    {
     "name": "stdout",
     "output_type": "stream",
     "text": [
      "1    29617\n",
      "0      517\n",
      "Name: same_fmarriage, dtype: int64\n"
     ]
    }
   ],
   "source": [
    "# 是否曾換婚姻狀態\n",
    "tmp2 = tmp[tmp[\"Driver's_Relationship_with_Insured\"] == 1]\n",
    "tmp2['same_fmarriage'] = np.where(tmp2.fmarriage == tmp2.Marital_Status_of_Driver, 1, 0)\n",
    "print tmp2.same_fmarriage.value_counts()\n",
    "tmp3 = tmp2.groupby('Policy_Number', as_index=0)[\"same_fmarriage\"].min()\n",
    "tmp3[\"divorce_marriage\"] = np.where(tmp3.same_fmarriage == 1, 0, 1)\n",
    "tr = pd.merge(tr, tmp3[[\"Policy_Number\",\"divorce_marriage\"]], how = 'left', on = 'Policy_Number')\n",
    "te = pd.merge(te, tmp3[[\"Policy_Number\",\"divorce_marriage\"]], how = 'left', on = 'Policy_Number') "
   ]
  },
  {
   "cell_type": "code",
   "execution_count": 86,
   "metadata": {},
   "outputs": [
    {
     "name": "stderr",
     "output_type": "stream",
     "text": [
      "/usr/local/lib/python2.7/site-packages/ipykernel_launcher.py:3: SettingWithCopyWarning: \n",
      "A value is trying to be set on a copy of a slice from a DataFrame.\n",
      "Try using .loc[row_indexer,col_indexer] = value instead\n",
      "\n",
      "See the caveats in the documentation: http://pandas.pydata.org/pandas-docs/stable/indexing.html#indexing-view-versus-copy\n",
      "  This is separate from the ipykernel package so we can avoid doing imports until\n"
     ]
    }
   ],
   "source": [
    "# 是否曾換車牌\n",
    "tmp2 = tmp[tmp[\"Driver's_Relationship_with_Insured\"] == 1]\n",
    "tmp2['same_Vehicle'] = np.where(tmp2.Vehicle_identifier_x == tmp2.Vehicle_identifier_y, 1, 0)\n",
    "#print tmp2.same_Vehicle.value_counts()\n",
    "tmp3 = tmp2.groupby('Policy_Number', as_index=0)[\"same_Vehicle\"].min()\n",
    "tmp3[\"transfer_vehicle\"] = np.where(tmp3.same_Vehicle == 1, 0, 1)\n",
    "tr = pd.merge(tr, tmp3[[\"Policy_Number\",\"transfer_vehicle\"]], how = 'left', on = 'Policy_Number')\n",
    "te = pd.merge(te, tmp3[[\"Policy_Number\",\"transfer_vehicle\"]], how = 'left', on = 'Policy_Number') "
   ]
  },
  {
   "cell_type": "code",
   "execution_count": 24,
   "metadata": {
    "collapsed": true
   },
   "outputs": [],
   "source": [
    "tr.to_csv(path+'tr3.csv', index=False, encoding='utf-8')\n",
    "te.to_csv(path+'te3.csv', index=False, encoding='utf-8')"
   ]
  },
  {
   "cell_type": "code",
   "execution_count": 18,
   "metadata": {
    "collapsed": true
   },
   "outputs": [],
   "source": [
    "tmp = claim.groupby(['Claim_Number','Policy_Number'],as_index=0)[\"number_of_claimants\"].first()\n",
    "tmp = tmp.groupby('Policy_Number', as_index=0).agg({\"number_of_claimants\":[\"sum\",'mean']})\n",
    "tmp.columns = [\"Policy_Number\",'sum_number_of_claimants','mean_number_of_claimants']\n",
    "tr = pd.merge(tr, tmp, how = 'left', on = 'Policy_Number')\n",
    "te = pd.merge(te, tmp, how = 'left', on = 'Policy_Number') "
   ]
  }
 ],
 "metadata": {
  "kernelspec": {
   "display_name": "Python 2",
   "language": "python",
   "name": "python2"
  },
  "language_info": {
   "codemirror_mode": {
    "name": "ipython",
    "version": 2
   },
   "file_extension": ".py",
   "mimetype": "text/x-python",
   "name": "python",
   "nbconvert_exporter": "python",
   "pygments_lexer": "ipython2",
   "version": "2.7.13"
  }
 },
 "nbformat": 4,
 "nbformat_minor": 2
}
